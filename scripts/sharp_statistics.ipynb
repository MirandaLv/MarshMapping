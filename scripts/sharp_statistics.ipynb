{
 "cells": [
  {
   "cell_type": "code",
   "execution_count": 3,
   "id": "865db899",
   "metadata": {},
   "outputs": [],
   "source": [
    "import rasterio\n",
    "import os\n",
    "import numpy as np\n",
    "import matplotlib.pyplot as plt\n",
    "from os.path import dirname as up\n",
    "import geopandas as gpd\n",
    "import shutil\n",
    "from tqdm import tqdm\n",
    "import rioxarray\n",
    "import shapely\n",
    "from itertools import product\n",
    "from rasterio import windows\n",
    "from rasterio.merge import merge\n",
    "from rasterio.plot import show\n",
    "from rasterio.mask import mask, raster_geometry_mask\n",
    "from shapely.geometry import box\n",
    "import pandas as pd"
   ]
  },
  {
   "cell_type": "code",
   "execution_count": 5,
   "id": "98c59fcf",
   "metadata": {},
   "outputs": [],
   "source": [
    "cur_path = os.path.abspath(\"..\")\n",
    "sharp_z7_dem = os.path.join(cur_path, 'raw_data', 'SHARP', 'zone7_resample.tif')\n",
    "sharp_z8_dem = os.path.join(cur_path, 'raw_data', 'SHARP', 'zone8_resample.tif')"
   ]
  },
  {
   "cell_type": "code",
   "execution_count": 63,
   "id": "6d785b8a",
   "metadata": {},
   "outputs": [],
   "source": [
    "z7_src = rasterio.open(sharp_z7_dem)\n",
    "z7_img = z7_src.read(1)\n"
   ]
  },
  {
   "cell_type": "code",
   "execution_count": 64,
   "id": "f5a0f56c",
   "metadata": {},
   "outputs": [],
   "source": [
    "unique, counts = np.unique(z7_img, return_counts=True)"
   ]
  },
  {
   "cell_type": "code",
   "execution_count": 65,
   "id": "ad8e6c08",
   "metadata": {},
   "outputs": [
    {
     "data": {
      "image/png": "[encoded data removed]",
      "text/plain": [
       "<Figure size 432x288 with 1 Axes>"
      ]
     },
     "metadata": {
      "needs_background": "light"
     },
     "output_type": "display_data"
    }
   ],
   "source": [
    "plt.bar(list(unique)[1:], list(counts)[1:], color ='maroon', width = 0.4)\n",
    "plt.show()"
   ]
  },
  {
   "cell_type": "code",
   "execution_count": 66,
   "id": "c6010d8b",
   "metadata": {},
   "outputs": [],
   "source": [
    "z8_src = rasterio.open(sharp_z8_dem)\n",
    "z8_img = z8_src.read(1)\n"
   ]
  },
  {
   "cell_type": "code",
   "execution_count": 67,
   "id": "e09900b9",
   "metadata": {},
   "outputs": [
    {
     "data": {
      "image/png": "[encoded data removed]",
      "text/plain": [
       "<Figure size 432x288 with 1 Axes>"
      ]
     },
     "metadata": {
      "needs_background": "light"
     },
     "output_type": "display_data"
    }
   ],
   "source": [
    "unique_8, counts_8 = np.unique(z8_img, return_counts=True)\n",
    "plt.bar(list(unique_8)[1:], list(counts_8)[1:], color ='maroon', width = 0.4)\n",
    "plt.show()"
   ]
  },
  {
   "cell_type": "code",
   "execution_count": null,
   "id": "88c184f3",
   "metadata": {},
   "outputs": [],
   "source": [
    "counts[1:] / sum(counts[1:])"
   ]
  },
  {
   "cell_type": "code",
   "execution_count": 111,
   "id": "06f0b521",
   "metadata": {},
   "outputs": [],
   "source": [
    "def get_tile_geom(tile_tif, crs=None):\n",
    "    \n",
    "    rds = rioxarray.open_rasterio(tile_tif)\n",
    "    \n",
    "    if crs is not None:\n",
    "\n",
    "        assert isinstance(crs, str)\n",
    "        \n",
    "        rds_proj = rds.rio.reproject(crs)\n",
    "        minx, miny, maxx, maxy = rds_proj.rio.bounds()\n",
    "        geometry = shapely.geometry.box(minx, miny, maxx, maxy, ccw=True)\n",
    "    \n",
    "    else:\n",
    "        \n",
    "        minx, miny, maxx, maxy = rds.rio.bounds()\n",
    "        geometry = shapely.geometry.box(minx, miny, maxx, maxy, ccw=True)\n",
    "    \n",
    "    return geometry\n",
    "\n",
    "\n",
    "def get_tiles(ds, width=256, height=256):\n",
    "    nols, nrows = ds.meta['width'], ds.meta['height']\n",
    "    offsets = product(range(0, nols, width), range(0, nrows, height))\n",
    "    big_window = windows.Window(col_off=0, row_off=0, width=nols, height=nrows)\n",
    "    for col_off, row_off in offsets:\n",
    "        window =windows.Window(col_off=col_off, row_off=row_off, width=width, height=height).intersection(big_window)\n",
    "        transform = windows.transform(window, ds.transform)\n",
    "        yield window, transform\n",
    "\n",
    "def cropping_bands(ref_img_path, ups_img, outfile):\n",
    "    \n",
    "    \"\"\"\n",
    "    ref_img_path: input 10m resolution band\n",
    "    ups_img_path: input low resolution band (rasterio.open() output)\n",
    "    outfile: output low resolution band with geom alinged with ref_img\n",
    "    \"\"\"\n",
    "\n",
    "    ref_img = rasterio.open(ref_img_path)\n",
    "    # get the geometry of the reference high resolution band\n",
    "    geom = box(*ref_img.bounds)\n",
    "    \n",
    "#     ups_img = rasterio.open(ups_img_path)\n",
    "    cropped, crop_transf = mask(ups_img, [geom], crop=True, filled=False, all_touched=False)\n",
    "    \n",
    "    c, h, w = cropped.shape\n",
    "    \n",
    "    meta = ref_img.meta\n",
    "    meta['width'], meta['height'] = w, h\n",
    "    meta['transform'] = crop_transf\n",
    "    meta[\"count\"] = c\n",
    "\n",
    "    with rasterio.open(outfile, 'w', **meta) as dst:\n",
    "        dst.write(cropped)\n",
    "\n",
    "def get_pixel_count(rst):\n",
    "    \n",
    "    img = rasterio.open(rst).read(1)\n",
    "    unique, count = np.unique(img, return_counts=True)\n",
    "    \n",
    "    pixel_count = {}\n",
    "    \n",
    "    for i in range(len(unique)):\n",
    "        \n",
    "        if not unique[i] in pixel_count.keys():\n",
    "            pixel_count[unique[i]] = count[i]\n",
    "    \n",
    "    for j in range(0, 10):\n",
    "        if not j in pixel_count.keys():\n",
    "            pixel_count[j] = 0\n",
    "    \n",
    "#     pixel_count_new = {k: v for k, v in sorted(pixel_count.items(), key=lambda item: item[0])}\n",
    "    \n",
    "    pixel_count_new = [str(v) for k, v in sorted(pixel_count.items(), key=lambda item: item[0])]\n",
    "    pixel_count_str = '|'.join(pixel_count_new)\n",
    "\n",
    "    return pixel_count_str\n"
   ]
  },
  {
   "cell_type": "code",
   "execution_count": null,
   "id": "15397383",
   "metadata": {},
   "outputs": [],
   "source": [
    "# NAIP 2014 data processing\n",
    "\n",
    "\"\"\"\n",
    "Step 1.\n",
    "Get the geometry index of each image tile and all index is projected to 26918\n",
    "gdaltindex -t_srs EPSG:26918 -src_srs_name src_srs naip_va_2014_index.shp 2014_VA/*.tif\n",
    "gdaltindex -t_srs EPSG:26918 -src_srs_name src_srs naip_md_2015_index.shp 2015_MD/*.tif\n",
    "\n",
    "Step 2.\n",
    "Desktop, overlay the index shapefile with the zone 7 and zone 8 dem tiff data, and select the tiles that are \n",
    "overlay with the zone data, export this geojson file and saved as NAIPva_2014_overlapIndex.geojson and \n",
    "NAIPmd_2015_overlapIndex.geojson\n",
    "\n",
    "Step 3. \n",
    "Copy all image tiles to the NAIP folder under raw_data. These image tiles will be used to construct image patches for training\n",
    "and testing.\n",
    "\n",
    "\"\"\"\n",
    "\n",
    "NAIP_dir = os.path.join(up(up(cur_path)), 'VIMS', 'NAIP')\n",
    "VA_dir = os.path.join(NAIP_dir, 'VA_NAIP_2014_6278', '2014_VA')\n",
    "MD_dir = os.path.join(NAIP_dir, 'MD_NAIP_2015_6275', '2015_MD')\n",
    "dest_dir = os.path.join(cur_path, 'raw_data', 'NAIP_z7z8')\n",
    "\n",
    "overlap_index_VA = os.path.join(cur_path, 'data', 'NAIP', 'NAIPva_2014_overlapIndex.geojson')\n",
    "overlap_index_MD = os.path.join(cur_path, 'data', 'NAIP', 'NAIPmd_2015_overlapIndex.geojson')"
   ]
  },
  {
   "cell_type": "code",
   "execution_count": null,
   "id": "573807a6",
   "metadata": {},
   "outputs": [],
   "source": [
    "va_gdf = gpd.read_file(overlap_index_VA)\n",
    "md_gdf = gpd.read_file(overlap_index_MD)"
   ]
  },
  {
   "cell_type": "code",
   "execution_count": null,
   "id": "83cf8828",
   "metadata": {},
   "outputs": [],
   "source": [
    "all_va = [os.path.join(NAIP_dir, 'VA_NAIP_2014_6278', file) for file in va_gdf.location.tolist()]\n",
    "all_md = [os.path.join(NAIP_dir, 'MD_NAIP_2015_6275', file) for file in md_gdf.location.tolist()]\n",
    "all_files = all_va + all_md"
   ]
  },
  {
   "cell_type": "code",
   "execution_count": null,
   "id": "8a8e84a3",
   "metadata": {},
   "outputs": [],
   "source": [
    "cope_file = False\n",
    "\n",
    "while cope_file:\n",
    "    cope_file = False\n",
    "    for file in tqdm(all_files):\n",
    "        shutil.copy(file, dest_dir)"
   ]
  },
  {
   "cell_type": "code",
   "execution_count": null,
   "id": "5f948906",
   "metadata": {},
   "outputs": [],
   "source": []
  },
  {
   "cell_type": "code",
   "execution_count": null,
   "id": "1741d053",
   "metadata": {},
   "outputs": [],
   "source": []
  },
  {
   "cell_type": "code",
   "execution_count": 8,
   "id": "2f69b85f",
   "metadata": {},
   "outputs": [
    {
     "name": "stderr",
     "output_type": "stream",
     "text": [
      "100%|██████████| 2/2 [3:34:19<00:00, 6429.85s/it]  \n"
     ]
    }
   ],
   "source": [
    "# Processing SHARP classification map in z7 and z8, which covers the area of Maryland and Virginia\n",
    "# Processing data clip to N X N dimension, and remove invalid data patches\n",
    "\n",
    "dem_tiles = [sharp_z7_dem, sharp_z8_dem]\n",
    "image_clipping = False\n",
    "cropped_path = os.path.join(cur_path, \"data/NAIP/sharp_image_patches_512\")\n",
    "valid_dest_dir = os.path.join(cur_path, \"data/NAIP/sharp_valid_image_patches_512\")\n",
    "\n",
    "\n",
    "N = 512\n",
    "\n",
    "while image_clipping:\n",
    "    \n",
    "    image_clipping = False\n",
    "    valid_patch_count = 0\n",
    "    \n",
    "    for tile in tqdm(dem_tiles):\n",
    "        \n",
    "        output_filename = os.path.basename(tile).split('.')[0] + \"_{}-{}.tif\"  #'VRGB_2017_tile_{}-{}.tif'\n",
    "        \n",
    "        with rasterio.open(tile) as inds:\n",
    "\n",
    "            meta = inds.meta.copy()\n",
    "\n",
    "            for window, transform in get_tiles(inds, N, N):\n",
    "\n",
    "                meta['transform'] = transform\n",
    "                meta['width'], meta['height'] = window.width, window.height\n",
    "\n",
    "                outpath = os.path.join(cropped_path, output_filename.format(int(window.col_off), int(window.row_off)))\n",
    "\n",
    "                with rasterio.open(outpath, 'w', **meta) as outds:\n",
    "                    outds.write(inds.read(window=window))\n",
    "                \n",
    "                patch_src = rasterio.open(outpath)\n",
    "                patch_src_array = patch_src.read(1)\n",
    "                unique, counts = np.unique(patch_src_array, return_counts=True)\n",
    "\n",
    "                if len(unique) == 1 and (unique[0]==0 or unique[0]==-1.797693e+308):\n",
    "                    pass\n",
    "                else:\n",
    "                    valid_patch_count += 1\n",
    "                    shutil.copy(outpath, valid_dest_dir)"
   ]
  },
  {
   "cell_type": "code",
   "execution_count": null,
   "id": "f4d33406",
   "metadata": {},
   "outputs": [],
   "source": []
  },
  {
   "cell_type": "code",
   "execution_count": null,
   "id": "1123ea67",
   "metadata": {},
   "outputs": [],
   "source": [
    "# all_zone_patches = [f for f in os.listdir(cropped_path) if f.endswith(\".tif\")]\n",
    "\n",
    "# move_valid_tiles = True\n",
    "# valid_dest_dir = os.path.join(cur_path, \"data/NAIP/sharp_valid_image_patches_512\")\n",
    "\n",
    "# while move_valid_tiles:\n",
    "    \n",
    "#     move_valid_tiles = False\n",
    "    \n",
    "#     valid_patch_count = 0\n",
    "\n",
    "#     for patch in tqdm(all_zone_patches):\n",
    "#         patch_path = os.path.join(cropped_path, patch)\n",
    "#         patch_src = rasterio.open(patch_path)\n",
    "#         patch_src_array = patch_src.read(1)\n",
    "#         unique, counts = np.unique(patch_src_array, return_counts=True)\n",
    "\n",
    "#         if len(unique) == 1 and (unique[0]==0 or unique[0]==-1.797693e+308):\n",
    "#             print(patch_path)\n",
    "#         else:\n",
    "#             valid_patch_count += 1\n",
    "#             shutil.copy(patch_path, valid_dest_dir)"
   ]
  },
  {
   "cell_type": "code",
   "execution_count": null,
   "id": "76752a94",
   "metadata": {},
   "outputs": [],
   "source": []
  },
  {
   "cell_type": "code",
   "execution_count": null,
   "id": "026e910a",
   "metadata": {},
   "outputs": [],
   "source": []
  },
  {
   "cell_type": "code",
   "execution_count": null,
   "id": "ecc366d4",
   "metadata": {},
   "outputs": [],
   "source": []
  },
  {
   "cell_type": "code",
   "execution_count": null,
   "id": "1ea6d7cd",
   "metadata": {},
   "outputs": [],
   "source": []
  },
  {
   "cell_type": "code",
   "execution_count": 11,
   "id": "6080137b",
   "metadata": {},
   "outputs": [],
   "source": [
    "# Working on NAIP data processing\n",
    "\n",
    "z7z8_NAIP = os.path.join(cur_path, 'raw_data', 'z7z8_NAIP.tif')\n",
    "crop_NAIP_out = os.path.join(cur_path, \"data/NAIP/NAIP_image_patches_512\")\n",
    "valid_patches = [f for f in os.listdir(valid_dest_dir) if f.endswith(\".tif\")]"
   ]
  },
  {
   "cell_type": "code",
   "execution_count": 16,
   "id": "3f491af2",
   "metadata": {},
   "outputs": [],
   "source": [
    "NAIP_cropping = False\n",
    "\n",
    "outbound_patches = []\n",
    "\n",
    "while NAIP_cropping:\n",
    "    NAIP_cropping = False\n",
    "    \n",
    "    naip_src = rasterio.open(z7z8_NAIP)\n",
    "    \n",
    "    for valid_patch in tqdm(valid_patches):\n",
    "        valid_patch_path = os.path.join(valid_dest_dir, valid_patch)\n",
    "        # cropped NAIP output path\n",
    "        naip_cropped_path = os.path.join(crop_NAIP_out, valid_patch)\n",
    "        try:\n",
    "            cropping_bands(valid_patch_path, naip_src, naip_cropped_path)\n",
    "        except:\n",
    "            print(valid_patch_path)\n",
    "            outbound_patches.append(valid_patch)\n",
    "    "
   ]
  },
  {
   "cell_type": "code",
   "execution_count": 49,
   "id": "3af7de0b",
   "metadata": {},
   "outputs": [],
   "source": [
    "# Generate a csv file to record the directory of images and the corresponding labels\n",
    "\n",
    "valid_NAIP = [i for i in os.listdir(crop_NAIP_out) if i.endswith('.tif')]\n",
    "df = pd.DataFrame (valid_NAIP, columns = ['patch_name'])\n",
    "df['patch_path'] = df['patch_name'].apply(lambda x: os.path.join(crop_NAIP_out, x))\n",
    "df['label_path'] = df['patch_name'].apply(lambda x: os.path.join(cropped_path, x))\n",
    "#df.to_csv(os.path.join(cur_path, 'data', 'NAIP', 'NAIP_data_512.csv'), index=False)"
   ]
  },
  {
   "cell_type": "code",
   "execution_count": 47,
   "id": "46c95041",
   "metadata": {},
   "outputs": [
    {
     "name": "stderr",
     "output_type": "stream",
     "text": [
      "100%|██████████| 15763/15763 [16:13<00:00, 16.19it/s]  \n"
     ]
    }
   ],
   "source": [
    "invalid_shape = []\n",
    "for i in tqdm(valid_NAIP):\n",
    "    \n",
    "    valid_path = os.path.join(crop_NAIP_out, i)\n",
    "    \n",
    "    if os.path.isfile(valid_path):\n",
    "        img = rasterio.open(valid_path).read()\n",
    "\n",
    "        if img.shape[1] != 512 or img.shape[2] != 512:\n",
    "            invalid_shape.append(i)\n",
    "            os.remove(valid_path)"
   ]
  },
  {
   "cell_type": "code",
   "execution_count": 118,
   "id": "9e2d4620",
   "metadata": {},
   "outputs": [],
   "source": [
    "label_path = os.path.join(cur_path, 'data', 'NAIP', 'NAIP_data_512.csv')\n",
    "label_df = pd.read_csv(label_path)\n",
    "label_df['pixel_count'] = label_df['label_path'].apply(lambda x: get_pixel_count(x))"
   ]
  },
  {
   "cell_type": "code",
   "execution_count": 120,
   "id": "29ef4336",
   "metadata": {},
   "outputs": [],
   "source": [
    "# create column to count each label class\n",
    "label_df['class_0'] = label_df['pixel_count'].apply(lambda x: int(x.split('|')[0]))\n",
    "label_df['class_1'] = label_df['pixel_count'].apply(lambda x: int(x.split('|')[1]))\n",
    "label_df['class_2'] = label_df['pixel_count'].apply(lambda x: int(x.split('|')[2]))\n",
    "label_df['class_3'] = label_df['pixel_count'].apply(lambda x: int(x.split('|')[3]))\n",
    "label_df['class_4'] = label_df['pixel_count'].apply(lambda x: int(x.split('|')[4]))\n",
    "label_df['class_5'] = label_df['pixel_count'].apply(lambda x: int(x.split('|')[5]))\n",
    "label_df['class_6'] = label_df['pixel_count'].apply(lambda x: int(x.split('|')[6]))\n",
    "label_df['class_7'] = label_df['pixel_count'].apply(lambda x: int(x.split('|')[7]))\n",
    "label_df['class_8'] = label_df['pixel_count'].apply(lambda x: int(x.split('|')[8]))\n",
    "label_df['class_9'] = label_df['pixel_count'].apply(lambda x: int(x.split('|')[9]))"
   ]
  },
  {
   "cell_type": "code",
   "execution_count": 133,
   "id": "a847fed6",
   "metadata": {},
   "outputs": [],
   "source": [
    "# label_df.to_csv(os.path.join(cur_path, 'data', 'NAIP', 'NAIP_data_withCount_512.csv'), index=False)"
   ]
  },
  {
   "cell_type": "code",
   "execution_count": 131,
   "id": "a9b44af9",
   "metadata": {},
   "outputs": [],
   "source": [
    "# hl_df = label_df[(label_df['class_1']>0) | (label_df['class_2']>0)]\n",
    "# hl_df.to_csv(os.path.join(cur_path, 'data', 'NAIP', 'NAIP_data_highlow_512.csv'), index=False)"
   ]
  },
  {
   "cell_type": "code",
   "execution_count": 6,
   "id": "9040d4eb",
   "metadata": {},
   "outputs": [],
   "source": [
    "df = pd.read_csv(os.path.join(cur_path, 'data', 'NAIP', 'NAIP_data_highlow_512.csv'))"
   ]
  },
  {
   "cell_type": "code",
   "execution_count": 11,
   "id": "4872e561",
   "metadata": {},
   "outputs": [],
   "source": [
    "high_low_50000 = df[(df.class_1 > 50000) | (df.class_2 > 50000)]\n",
    "high_low_50000.to_csv(os.path.join(cur_path, 'data', 'NAIP', 'NAIP_data_highlow_50000.csv'), index=False)"
   ]
  },
  {
   "cell_type": "code",
   "execution_count": null,
   "id": "87223a23",
   "metadata": {},
   "outputs": [],
   "source": []
  },
  {
   "cell_type": "code",
   "execution_count": null,
   "id": "fcce6132",
   "metadata": {},
   "outputs": [],
   "source": []
  },
  {
   "cell_type": "code",
   "execution_count": null,
   "id": "6c8aa9f4",
   "metadata": {},
   "outputs": [],
   "source": []
  },
  {
   "cell_type": "code",
   "execution_count": null,
   "id": "eec27462",
   "metadata": {},
   "outputs": [],
   "source": []
  }
 ],
 "metadata": {
  "kernelspec": {
   "display_name": "vims",
   "language": "python",
   "name": "vims"
  },
  "language_info": {
   "codemirror_mode": {
    "name": "ipython",
    "version": 3
   },
   "file_extension": ".py",
   "mimetype": "text/x-python",
   "name": "python",
   "nbconvert_exporter": "python",
   "pygments_lexer": "ipython3",
   "version": "3.7.10"
  }
 },
 "nbformat": 4,
 "nbformat_minor": 5
}
