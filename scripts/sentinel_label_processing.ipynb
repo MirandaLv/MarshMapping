{
 "cells": [
  {
   "cell_type": "code",
   "execution_count": 14,
   "id": "7efa082a",
   "metadata": {},
   "outputs": [],
   "source": [
    "import os\n",
    "import numpy as np\n",
    "import pandas as pd\n",
    "import rasterio\n",
    "import sys\n",
    "import geopandas as gpd\n",
    "from pathlib import Path\n",
    "from tqdm import tqdm\n",
    "from rasterio.mask import mask, raster_geometry_mask\n",
    "from shapely.geometry import box\n",
    "from rasterio.enums import Resampling\n",
    "from itertools import product\n",
    "from rasterio import windows\n",
    "import rioxarray\n",
    "import shapely\n",
    "import shutil\n",
    "from rasterio import features\n",
    "from sklearn.model_selection import train_test_split\n",
    "\n",
    "path_cur = os.path.abspath('.')\n",
    "sys.path.append(path_cur)\n",
    "\n",
    "from os.path import dirname as up"
   ]
  },
  {
   "cell_type": "code",
   "execution_count": 15,
   "id": "d19e9efa",
   "metadata": {},
   "outputs": [],
   "source": [
    "# Setting working directory and input data directory\n",
    "\n",
    "base_path = Path(os.path.join(up(path_cur), 'data', 'sentinel_data_processing'))\n",
    "\n",
    "Marsh_DIR = os.path.join(up(path_cur), 'data', 'processing_data', 'marsh_all_500.geojson')\n",
    "ncld_path = os.path.join(up(path_cur), 'data', 'NLCD_shoreline', 'clipped_nlcd.tif')"
   ]
  },
  {
   "cell_type": "code",
   "execution_count": 16,
   "id": "e6876a36",
   "metadata": {},
   "outputs": [],
   "source": [
    "allfiles = [i for i in os.listdir(os.path.join(base_path, 'image_patches_128')) if 'VRGB' in i and i.endswith('tif')]"
   ]
  },
  {
   "cell_type": "code",
   "execution_count": 20,
   "id": "35fe5119",
   "metadata": {},
   "outputs": [],
   "source": [
    "def cropping_bands(ref_img_path, ups_img, outfile):\n",
    "    \n",
    "    \"\"\"\n",
    "    ref_img_path: input 10m resolution band\n",
    "    ups_img_path: input low resolution band (rasterio.open() output)\n",
    "    outfile: output low resolution band with geom alinged with ref_img\n",
    "    \"\"\"\n",
    "\n",
    "    ref_img = rasterio.open(ref_img_path)\n",
    "    # get the geometry of the reference high resolution band\n",
    "    geom = box(*ref_img.bounds)\n",
    "    \n",
    "#     ups_img = rasterio.open(ups_img_path)\n",
    "    cropped, crop_transf = mask(ups_img, [geom], crop=True, filled=False, all_touched=False)\n",
    "    \n",
    "    c, h, w = cropped.shape\n",
    "    \n",
    "    meta = ref_img.meta\n",
    "    meta['width'], meta['height'] = w, h\n",
    "    meta['transform'] = crop_transf\n",
    "    meta['count'] = c\n",
    "\n",
    "    with rasterio.open(outfile, 'w', **meta) as dst:\n",
    "        dst.write(cropped)\n",
    "\n",
    "\n",
    "def upsample(img_lres_path, img_hres_path, img_size, outf, method=Resampling.bilinear):\n",
    "    \n",
    "    \"\"\"\n",
    "    img_lres_path: low resolution cropped band path\n",
    "    img_hres_path: high resolution cropped band path\n",
    "    img_size: the size to resample\n",
    "    outf: output resampled Bands\n",
    "    \"\"\"\n",
    "    \n",
    "    dataset = rasterio.open(img_lres_path)\n",
    "\n",
    "    # resample data to target shape\n",
    "    data = dataset.read(\n",
    "        out_shape=(\n",
    "            dataset.count,\n",
    "            int(img_size),\n",
    "            int(img_size)\n",
    "        ),\n",
    "        resampling=method\n",
    "    )\n",
    "\n",
    "    dataset_hres = rasterio.open(img_hres_path)\n",
    "    \n",
    "    meta = dataset_hres.meta\n",
    "    meta['count'] = dataset.count\n",
    "    \n",
    "    with rasterio.open(outf, 'w', **meta) as dst:\n",
    "        dst.write(data)\n",
    "\n",
    "\n",
    "def replace_ncld(arr):\n",
    "    \n",
    "    # NCLD classification: https://www.mrlc.gov/data/legends/national-land-cover-database-class-legend-and-description\n",
    "    arr[arr == 11] = 1 # 11->1 water\n",
    "    arr = np.where((20 < arr)&(39 > arr), 2, arr) # 2X and 3X ->2 developed and barren\n",
    "    arr = np.where((40 < arr)&(49 > arr), 4, arr) # 4X->4 forest\n",
    "    arr = np.where((50 < arr)&(59 > arr), 5, arr) # 5X->5 shrub\n",
    "    arr = np.where((70 < arr)&(79 > arr), 6, arr) # 7X->6 Herbaceous\n",
    "    arr = np.where((80 < arr)&(89 > arr), 7, arr) # 8X->7 planeted\n",
    "    arr[arr == 90] = 8 # 90->8 woody wetland\n",
    "    arr[arr == 95] = 9 # 95->9 emergent wetland\n",
    "    \n",
    "    return arr\n",
    "    "
   ]
  },
  {
   "cell_type": "code",
   "execution_count": 21,
   "id": "78e7dd72",
   "metadata": {},
   "outputs": [],
   "source": [
    "ncld_resample_path = os.path.join(up(path_cur), 'data', 'NLCD_shoreline', 'nlcd_reclass.tif')\n",
    "ncld_reclass = False\n",
    "\n",
    "while ncld_reclass:\n",
    "    \n",
    "    ncld_reclass = False\n",
    "\n",
    "    ncld = rasterio.open(ncld_path)\n",
    "    ncld_array = ncld.read()\n",
    "    reclass_array = replace_ncld(ncld_array)    \n",
    "    meta = ncld.meta\n",
    "\n",
    "    with rasterio.open(ncld_resample_path, 'w', **meta) as dst:\n",
    "        dst.write(reclass_array)"
   ]
  },
  {
   "cell_type": "code",
   "execution_count": 23,
   "id": "19a5a4c3",
   "metadata": {},
   "outputs": [],
   "source": [
    "\n",
    "coarse_clipping_resample = False\n",
    "upsample_size = 128\n",
    "\n",
    "while coarse_clipping_resample:\n",
    "    \n",
    "    coarse_clipping_resample = False\n",
    "            \n",
    "    ncld_img = rasterio.open(ncld_resample_path)\n",
    "\n",
    "    for hres in allfiles:\n",
    "        \n",
    "        print('Working on patch {}'.format(hres))\n",
    "        \n",
    "        label_name = '_'.join(os.path.splitext(hres)[0].split('_')[-2:]) + '.tif'\n",
    "        \n",
    "        hres_path = os.path.join(os.path.join(base_path, 'image_patches_128', hres))\n",
    "        crop_path = os.path.join(os.path.join(base_path, 'temp_label', label_name))\n",
    "        resample_path = os.path.join(os.path.join(base_path, 'ncld_labels', label_name))\n",
    "                \n",
    "        cropping_bands(hres_path, ncld_img, crop_path)\n",
    "        upsample(crop_path, hres_path, upsample_size, resample_path, method=Resampling.nearest)"
   ]
  },
  {
   "cell_type": "code",
   "execution_count": 7,
   "id": "b753e028",
   "metadata": {},
   "outputs": [],
   "source": [
    "# tmi label\n",
    "Marsh_df = gpd.read_file(Marsh_DIR)\n",
    "Marsh_df['marsh_presence'] = 1"
   ]
  },
  {
   "cell_type": "code",
   "execution_count": 24,
   "id": "759dd772",
   "metadata": {},
   "outputs": [],
   "source": [
    "tmi_label = False\n",
    "\n",
    "while tmi_label:\n",
    "    \n",
    "    tmi_label = False\n",
    "\n",
    "    for hres in tqdm(allfiles):\n",
    "        \n",
    "        print('Working on patch {}'.format(hres))\n",
    "        \n",
    "        label_name = '_'.join(os.path.splitext(hres)[0].split('_')[-2:]) + '.tif'\n",
    "        \n",
    "        if not label_name in os.listdir(os.path.join(base_path, 'tmi_labels')):\n",
    "\n",
    "            hres_path = os.path.join(os.path.join(base_path, 'image_patches_128', hres))\n",
    "            rst_path = os.path.join(os.path.join(base_path, 'tmi_labels', label_name))\n",
    "\n",
    "            rst = rasterio.open(hres_path)\n",
    "            meta = rst.meta.copy()\n",
    "            meta.update(compress='lzw')\n",
    "            meta['count'] = 1\n",
    "\n",
    "            with rasterio.open(rst_path, 'w+', **meta) as out:\n",
    "                out_arr = out.read(1)\n",
    "\n",
    "                # this is where we create a generator of geom, value pairs to use in rasterizing\n",
    "                shapes = ((geom,value) for geom, value in zip(Marsh_df.geometry, Marsh_df.marsh_presence))\n",
    "\n",
    "                burned = features.rasterize(shapes=shapes, fill=0, out=out_arr, transform=out.transform)\n",
    "                out.write_band(1, burned)"
   ]
  },
  {
   "cell_type": "code",
   "execution_count": null,
   "id": "10236a61",
   "metadata": {},
   "outputs": [],
   "source": []
  },
  {
   "cell_type": "code",
   "execution_count": 28,
   "id": "ccb4f2e0",
   "metadata": {},
   "outputs": [],
   "source": [
    "allfiles = [i for i in os.listdir(os.path.join(base_path, 'image_patches_128')) if 'B03' in i and i.endswith('tif')]"
   ]
  },
  {
   "cell_type": "code",
   "execution_count": 29,
   "id": "2da8a56a",
   "metadata": {},
   "outputs": [
    {
     "data": {
      "text/plain": [
       "2837"
      ]
     },
     "execution_count": 29,
     "metadata": {},
     "output_type": "execute_result"
    }
   ],
   "source": [
    "len(allfiles)"
   ]
  },
  {
   "cell_type": "code",
   "execution_count": null,
   "id": "46824312",
   "metadata": {},
   "outputs": [],
   "source": [
    "allfile_names = [os.path.splitext(i)[0].split('_')[-1] for i in os.listdir(os.path.join(base_path, 'image_patches_128')) if 'B03' in i and i.endswith('tif')]"
   ]
  },
  {
   "cell_type": "code",
   "execution_count": null,
   "id": "8ea5e296",
   "metadata": {},
   "outputs": [],
   "source": [
    "allfile_names[0]"
   ]
  },
  {
   "cell_type": "code",
   "execution_count": null,
   "id": "59957f5b",
   "metadata": {},
   "outputs": [],
   "source": [
    "len(allfile_names)"
   ]
  },
  {
   "cell_type": "code",
   "execution_count": null,
   "id": "f452438d",
   "metadata": {},
   "outputs": [],
   "source": [
    "df = pd.DataFrame(allfile_names, columns =['patch_name'])\n"
   ]
  },
  {
   "cell_type": "code",
   "execution_count": null,
   "id": "c8502d81",
   "metadata": {},
   "outputs": [],
   "source": [
    "train, test = train_test_split(df, test_size=0.4, random_state=32)\n",
    "val, test = train_test_split(test, test_size=0.5, random_state=32)"
   ]
  },
  {
   "cell_type": "code",
   "execution_count": null,
   "id": "01acd0e0",
   "metadata": {},
   "outputs": [],
   "source": []
  },
  {
   "cell_type": "code",
   "execution_count": null,
   "id": "496ec41a",
   "metadata": {},
   "outputs": [],
   "source": []
  },
  {
   "cell_type": "code",
   "execution_count": null,
   "id": "b79a464c",
   "metadata": {},
   "outputs": [],
   "source": []
  },
  {
   "cell_type": "code",
   "execution_count": null,
   "id": "51579b39",
   "metadata": {},
   "outputs": [],
   "source": []
  },
  {
   "cell_type": "code",
   "execution_count": null,
   "id": "a2754b81",
   "metadata": {},
   "outputs": [],
   "source": []
  },
  {
   "cell_type": "code",
   "execution_count": null,
   "id": "866ec30c",
   "metadata": {},
   "outputs": [],
   "source": []
  },
  {
   "cell_type": "code",
   "execution_count": null,
   "id": "d72c1f74",
   "metadata": {},
   "outputs": [],
   "source": []
  },
  {
   "cell_type": "code",
   "execution_count": null,
   "id": "d427e32a",
   "metadata": {},
   "outputs": [],
   "source": []
  }
 ],
 "metadata": {
  "kernelspec": {
   "display_name": "vims",
   "language": "python",
   "name": "vims"
  },
  "language_info": {
   "codemirror_mode": {
    "name": "ipython",
    "version": 3
   },
   "file_extension": ".py",
   "mimetype": "text/x-python",
   "name": "python",
   "nbconvert_exporter": "python",
   "pygments_lexer": "ipython3",
   "version": "3.7.10"
  }
 },
 "nbformat": 4,
 "nbformat_minor": 5
}
