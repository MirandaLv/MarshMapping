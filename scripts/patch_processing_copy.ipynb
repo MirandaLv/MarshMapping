{
 "cells": [
  {
   "cell_type": "code",
   "execution_count": 1,
   "id": "ebe230d7",
   "metadata": {},
   "outputs": [],
   "source": [
    "# 1. Generating training dataset for binary classification and the weights: labels_tmi_modified_valid.csv\n",
    "# 2. Generating training dataset for HL binary classification and the weights: NAIP_data_highlow_50000_valid.csv\n",
    "# 3. Generating prediction dataset: all_NAIP_2018.csv\n"
   ]
  },
  {
   "cell_type": "code",
   "execution_count": null,
   "id": "91498d75",
   "metadata": {},
   "outputs": [],
   "source": [
    "# This script is used to pre-process the cropped boarder patches\n",
    "import os\n",
    "import numpy as np\n",
    "import pandas as pd\n",
    "import rasterio\n",
    "import sys\n",
    "import geopandas as gpd\n",
    "from pathlib import Path\n",
    "from tqdm import tqdm\n",
    "from rasterio.mask import mask, raster_geometry_mask\n",
    "from shapely.geometry import box\n",
    "from rasterio.enums import Resampling\n",
    "from itertools import product\n",
    "from rasterio import windows\n",
    "import rioxarray\n",
    "import shapely\n",
    "import shutil\n",
    "from osgeo import gdal\n",
    "\n",
    "path_cur = os.path.abspath('.')\n",
    "sys.path.append(path_cur)\n",
    "\n",
    "from os.path import dirname as up"
   ]
  },
  {
   "cell_type": "code",
   "execution_count": 2,
   "id": "2b202186",
   "metadata": {},
   "outputs": [],
   "source": [
    "label_file = Path(os.path.join(up(up(path_cur)), 'MarshMapping_local/data/NAIP_data_processing/labels_tmi_modified.csv'))\n",
    "out_file = Path(os.path.join(up(up(path_cur)), 'MarshMapping_local/data/NAIP_data_processing/labels_tmi_modified_valid.csv'))"
   ]
  },
  {
   "cell_type": "code",
   "execution_count": 3,
   "id": "dcf3e5b8",
   "metadata": {},
   "outputs": [],
   "source": [
    "df = pd.read_csv(label_file)"
   ]
  },
  {
   "cell_type": "code",
   "execution_count": 4,
   "id": "49f65500",
   "metadata": {},
   "outputs": [
    {
     "data": {
      "text/plain": [
       "(4, 256, 256)"
      ]
     },
     "execution_count": 4,
     "metadata": {},
     "output_type": "execute_result"
    }
   ],
   "source": [
    "testfile = df['patch_name'][0]\n",
    "rasterio.open(testfile).read().shape"
   ]
  },
  {
   "cell_type": "code",
   "execution_count": 5,
   "id": "96f01e16",
   "metadata": {},
   "outputs": [],
   "source": [
    "def filter_image_size(img, size):\n",
    "\n",
    "    image = rasterio.open(img).read()\n",
    "    w,h = image.shape[1:]\n",
    "    \n",
    "    if w!=size or h!=size:\n",
    "        return 0\n",
    "    else:\n",
    "        return 1\n",
    "\n",
    "def filter_image_zero(img):\n",
    "    \n",
    "    image = rasterio.open(img).read()\n",
    "    \n",
    "    zero_count = len(np.where(image==0)[0])\n",
    "    \n",
    "    if zero_count > 0:\n",
    "        return 0\n",
    "    else:\n",
    "        return 1\n",
    "\n",
    "def calculate_weights(img, val):\n",
    "    \n",
    "    image_array = rasterio.open(img).read(1)\n",
    "    val_count = len(image_array[image_array==int(val)])\n",
    "\n",
    "    return val_count\n",
    "\n",
    "\n",
    "def get_patch_name(img):\n",
    "    \n",
    "    return os.path.basename(img)\n",
    "        "
   ]
  },
  {
   "cell_type": "code",
   "execution_count": 6,
   "id": "7e91a822",
   "metadata": {},
   "outputs": [],
   "source": [
    "df['filter_size'] = df['patch_name'].apply(lambda x: filter_image_size(x, 256))\n",
    "df['filter_zero'] = df['patch_name'].apply(lambda x: filter_image_zero(x))"
   ]
  },
  {
   "cell_type": "code",
   "execution_count": 7,
   "id": "6774c15c",
   "metadata": {},
   "outputs": [],
   "source": [
    "df['none_marsh'] = df['label'].apply(lambda x: calculate_weights(x, 0))\n",
    "df['marsh'] = df['label'].apply(lambda x: calculate_weights(x, 1))"
   ]
  },
  {
   "cell_type": "code",
   "execution_count": 8,
   "id": "529d84c8",
   "metadata": {},
   "outputs": [],
   "source": [
    "# df['valid'] = df.apply(lambda x: get_valid(x), axis=1)\n",
    "valids = []\n",
    "\n",
    "for index, row in df.iterrows():\n",
    "    if row['filter_size']==1 and row['filter_zero']==1 and row['none_marsh']>0 and row['marsh']>0:\n",
    "        valids.append(1)\n",
    "    else:\n",
    "        valids.append(0)\n",
    "\n",
    "df['valid'] = valids"
   ]
  },
  {
   "cell_type": "code",
   "execution_count": 10,
   "id": "53207d63",
   "metadata": {},
   "outputs": [],
   "source": [
    "\n",
    "none_marsh_count = df[df['valid']==1]['none_marsh'].sum()\n",
    "marsh_count = df[df['valid']==1]['marsh'].sum()"
   ]
  },
  {
   "cell_type": "code",
   "execution_count": 11,
   "id": "bb7da308",
   "metadata": {},
   "outputs": [],
   "source": [
    "weights = [none_marsh_count / (none_marsh_count + marsh_count), marsh_count / (none_marsh_count + marsh_count)]"
   ]
  },
  {
   "cell_type": "code",
   "execution_count": 12,
   "id": "a5270878",
   "metadata": {},
   "outputs": [
    {
     "data": {
      "text/plain": [
       "[0.8345623386613673, 0.16543766133863266]"
      ]
     },
     "execution_count": 12,
     "metadata": {},
     "output_type": "execute_result"
    }
   ],
   "source": [
    "weights"
   ]
  },
  {
   "cell_type": "code",
   "execution_count": 13,
   "id": "081d5c01",
   "metadata": {},
   "outputs": [],
   "source": [
    "df = df.rename(columns={\"patch_name\": \"patch_path\", \"label\": \"label_path\"})"
   ]
  },
  {
   "cell_type": "code",
   "execution_count": 14,
   "id": "e40f8001",
   "metadata": {},
   "outputs": [],
   "source": [
    "df['patch_name'] = df['patch_path'].apply(lambda x: get_patch_name(x))"
   ]
  },
  {
   "cell_type": "code",
   "execution_count": 16,
   "id": "ce0168c1",
   "metadata": {},
   "outputs": [],
   "source": [
    "df = df.iloc[:,[-1,0,1,2,3,4,5,6]]"
   ]
  },
  {
   "cell_type": "code",
   "execution_count": 17,
   "id": "bb143c24",
   "metadata": {},
   "outputs": [],
   "source": [
    "# df.to_csv(out_file, encoding='utf-8', index=False)"
   ]
  },
  {
   "cell_type": "code",
   "execution_count": 18,
   "id": "1ea2e6f7",
   "metadata": {},
   "outputs": [
    {
     "data": {
      "text/html": [
       "<div>\n",
       "<style scoped>\n",
       "    .dataframe tbody tr th:only-of-type {\n",
       "        vertical-align: middle;\n",
       "    }\n",
       "\n",
       "    .dataframe tbody tr th {\n",
       "        vertical-align: top;\n",
       "    }\n",
       "\n",
       "    .dataframe thead th {\n",
       "        text-align: right;\n",
       "    }\n",
       "</style>\n",
       "<table border=\"1\" class=\"dataframe\">\n",
       "  <thead>\n",
       "    <tr style=\"text-align: right;\">\n",
       "      <th></th>\n",
       "      <th>patch_name</th>\n",
       "      <th>patch_path</th>\n",
       "      <th>label_path</th>\n",
       "      <th>filter_size</th>\n",
       "      <th>filter_zero</th>\n",
       "      <th>none_marsh</th>\n",
       "      <th>marsh</th>\n",
       "      <th>valid</th>\n",
       "    </tr>\n",
       "  </thead>\n",
       "  <tbody>\n",
       "    <tr>\n",
       "      <th>0</th>\n",
       "      <td>m_3607612_ne_18_060_20180830_wgs84_tile_2816-6...</td>\n",
       "      <td>/rapids/notebooks/sciclone/geograd/Miranda/git...</td>\n",
       "      <td>/rapids/notebooks/sciclone/geograd/Miranda/git...</td>\n",
       "      <td>1</td>\n",
       "      <td>1</td>\n",
       "      <td>65536</td>\n",
       "      <td>0</td>\n",
       "      <td>0</td>\n",
       "    </tr>\n",
       "    <tr>\n",
       "      <th>1</th>\n",
       "      <td>m_3607612_ne_18_060_20180830_wgs84_tile_6144-1...</td>\n",
       "      <td>/rapids/notebooks/sciclone/geograd/Miranda/git...</td>\n",
       "      <td>/rapids/notebooks/sciclone/geograd/Miranda/git...</td>\n",
       "      <td>1</td>\n",
       "      <td>1</td>\n",
       "      <td>43651</td>\n",
       "      <td>21885</td>\n",
       "      <td>1</td>\n",
       "    </tr>\n",
       "    <tr>\n",
       "      <th>2</th>\n",
       "      <td>m_3607612_ne_18_060_20180830_wgs84_tile_6912-5...</td>\n",
       "      <td>/rapids/notebooks/sciclone/geograd/Miranda/git...</td>\n",
       "      <td>/rapids/notebooks/sciclone/geograd/Miranda/git...</td>\n",
       "      <td>1</td>\n",
       "      <td>1</td>\n",
       "      <td>57891</td>\n",
       "      <td>7645</td>\n",
       "      <td>1</td>\n",
       "    </tr>\n",
       "    <tr>\n",
       "      <th>3</th>\n",
       "      <td>m_3607501_sw_18_060_20180827_wgs84_tile_256-11...</td>\n",
       "      <td>/rapids/notebooks/sciclone/geograd/Miranda/git...</td>\n",
       "      <td>/rapids/notebooks/sciclone/geograd/Miranda/git...</td>\n",
       "      <td>1</td>\n",
       "      <td>1</td>\n",
       "      <td>60878</td>\n",
       "      <td>4658</td>\n",
       "      <td>1</td>\n",
       "    </tr>\n",
       "    <tr>\n",
       "      <th>4</th>\n",
       "      <td>m_3607501_sw_18_060_20180827_wgs84_tile_768-11...</td>\n",
       "      <td>/rapids/notebooks/sciclone/geograd/Miranda/git...</td>\n",
       "      <td>/rapids/notebooks/sciclone/geograd/Miranda/git...</td>\n",
       "      <td>1</td>\n",
       "      <td>1</td>\n",
       "      <td>64032</td>\n",
       "      <td>1504</td>\n",
       "      <td>1</td>\n",
       "    </tr>\n",
       "    <tr>\n",
       "      <th>...</th>\n",
       "      <td>...</td>\n",
       "      <td>...</td>\n",
       "      <td>...</td>\n",
       "      <td>...</td>\n",
       "      <td>...</td>\n",
       "      <td>...</td>\n",
       "      <td>...</td>\n",
       "      <td>...</td>\n",
       "    </tr>\n",
       "    <tr>\n",
       "      <th>3870</th>\n",
       "      <td>m_3807764_nw_18_060_20180827_wgs84_tile_10240-...</td>\n",
       "      <td>/rapids/notebooks/sciclone/geograd/Miranda/git...</td>\n",
       "      <td>/rapids/notebooks/sciclone/geograd/Miranda/git...</td>\n",
       "      <td>1</td>\n",
       "      <td>1</td>\n",
       "      <td>60930</td>\n",
       "      <td>4606</td>\n",
       "      <td>1</td>\n",
       "    </tr>\n",
       "    <tr>\n",
       "      <th>3871</th>\n",
       "      <td>m_3807764_nw_18_060_20180827_wgs84_tile_11008-...</td>\n",
       "      <td>/rapids/notebooks/sciclone/geograd/Miranda/git...</td>\n",
       "      <td>/rapids/notebooks/sciclone/geograd/Miranda/git...</td>\n",
       "      <td>1</td>\n",
       "      <td>1</td>\n",
       "      <td>56441</td>\n",
       "      <td>9095</td>\n",
       "      <td>1</td>\n",
       "    </tr>\n",
       "    <tr>\n",
       "      <th>3872</th>\n",
       "      <td>m_3807764_nw_18_060_20180827_wgs84_tile_11264-...</td>\n",
       "      <td>/rapids/notebooks/sciclone/geograd/Miranda/git...</td>\n",
       "      <td>/rapids/notebooks/sciclone/geograd/Miranda/git...</td>\n",
       "      <td>1</td>\n",
       "      <td>1</td>\n",
       "      <td>53419</td>\n",
       "      <td>12117</td>\n",
       "      <td>1</td>\n",
       "    </tr>\n",
       "    <tr>\n",
       "      <th>3873</th>\n",
       "      <td>m_3807764_nw_18_060_20180827_wgs84_tile_11520-...</td>\n",
       "      <td>/rapids/notebooks/sciclone/geograd/Miranda/git...</td>\n",
       "      <td>/rapids/notebooks/sciclone/geograd/Miranda/git...</td>\n",
       "      <td>1</td>\n",
       "      <td>1</td>\n",
       "      <td>48535</td>\n",
       "      <td>17001</td>\n",
       "      <td>1</td>\n",
       "    </tr>\n",
       "    <tr>\n",
       "      <th>3874</th>\n",
       "      <td>m_3807764_nw_18_060_20180827_wgs84_tile_11520-...</td>\n",
       "      <td>/rapids/notebooks/sciclone/geograd/Miranda/git...</td>\n",
       "      <td>/rapids/notebooks/sciclone/geograd/Miranda/git...</td>\n",
       "      <td>1</td>\n",
       "      <td>1</td>\n",
       "      <td>48598</td>\n",
       "      <td>16938</td>\n",
       "      <td>1</td>\n",
       "    </tr>\n",
       "  </tbody>\n",
       "</table>\n",
       "<p>3875 rows × 8 columns</p>\n",
       "</div>"
      ],
      "text/plain": [
       "                                             patch_name  \\\n",
       "0     m_3607612_ne_18_060_20180830_wgs84_tile_2816-6...   \n",
       "1     m_3607612_ne_18_060_20180830_wgs84_tile_6144-1...   \n",
       "2     m_3607612_ne_18_060_20180830_wgs84_tile_6912-5...   \n",
       "3     m_3607501_sw_18_060_20180827_wgs84_tile_256-11...   \n",
       "4     m_3607501_sw_18_060_20180827_wgs84_tile_768-11...   \n",
       "...                                                 ...   \n",
       "3870  m_3807764_nw_18_060_20180827_wgs84_tile_10240-...   \n",
       "3871  m_3807764_nw_18_060_20180827_wgs84_tile_11008-...   \n",
       "3872  m_3807764_nw_18_060_20180827_wgs84_tile_11264-...   \n",
       "3873  m_3807764_nw_18_060_20180827_wgs84_tile_11520-...   \n",
       "3874  m_3807764_nw_18_060_20180827_wgs84_tile_11520-...   \n",
       "\n",
       "                                             patch_path  \\\n",
       "0     /rapids/notebooks/sciclone/geograd/Miranda/git...   \n",
       "1     /rapids/notebooks/sciclone/geograd/Miranda/git...   \n",
       "2     /rapids/notebooks/sciclone/geograd/Miranda/git...   \n",
       "3     /rapids/notebooks/sciclone/geograd/Miranda/git...   \n",
       "4     /rapids/notebooks/sciclone/geograd/Miranda/git...   \n",
       "...                                                 ...   \n",
       "3870  /rapids/notebooks/sciclone/geograd/Miranda/git...   \n",
       "3871  /rapids/notebooks/sciclone/geograd/Miranda/git...   \n",
       "3872  /rapids/notebooks/sciclone/geograd/Miranda/git...   \n",
       "3873  /rapids/notebooks/sciclone/geograd/Miranda/git...   \n",
       "3874  /rapids/notebooks/sciclone/geograd/Miranda/git...   \n",
       "\n",
       "                                             label_path  filter_size  \\\n",
       "0     /rapids/notebooks/sciclone/geograd/Miranda/git...            1   \n",
       "1     /rapids/notebooks/sciclone/geograd/Miranda/git...            1   \n",
       "2     /rapids/notebooks/sciclone/geograd/Miranda/git...            1   \n",
       "3     /rapids/notebooks/sciclone/geograd/Miranda/git...            1   \n",
       "4     /rapids/notebooks/sciclone/geograd/Miranda/git...            1   \n",
       "...                                                 ...          ...   \n",
       "3870  /rapids/notebooks/sciclone/geograd/Miranda/git...            1   \n",
       "3871  /rapids/notebooks/sciclone/geograd/Miranda/git...            1   \n",
       "3872  /rapids/notebooks/sciclone/geograd/Miranda/git...            1   \n",
       "3873  /rapids/notebooks/sciclone/geograd/Miranda/git...            1   \n",
       "3874  /rapids/notebooks/sciclone/geograd/Miranda/git...            1   \n",
       "\n",
       "      filter_zero  none_marsh  marsh  valid  \n",
       "0               1       65536      0      0  \n",
       "1               1       43651  21885      1  \n",
       "2               1       57891   7645      1  \n",
       "3               1       60878   4658      1  \n",
       "4               1       64032   1504      1  \n",
       "...           ...         ...    ...    ...  \n",
       "3870            1       60930   4606      1  \n",
       "3871            1       56441   9095      1  \n",
       "3872            1       53419  12117      1  \n",
       "3873            1       48535  17001      1  \n",
       "3874            1       48598  16938      1  \n",
       "\n",
       "[3875 rows x 8 columns]"
      ]
     },
     "execution_count": 18,
     "metadata": {},
     "output_type": "execute_result"
    }
   ],
   "source": [
    "df"
   ]
  },
  {
   "cell_type": "code",
   "execution_count": null,
   "id": "f78451af",
   "metadata": {},
   "outputs": [],
   "source": []
  },
  {
   "cell_type": "code",
   "execution_count": null,
   "id": "25862834",
   "metadata": {},
   "outputs": [],
   "source": []
  },
  {
   "cell_type": "code",
   "execution_count": null,
   "id": "c77b42e0",
   "metadata": {},
   "outputs": [],
   "source": []
  },
  {
   "cell_type": "code",
   "execution_count": null,
   "id": "591aa215",
   "metadata": {},
   "outputs": [],
   "source": []
  },
  {
   "cell_type": "code",
   "execution_count": null,
   "id": "8043a859",
   "metadata": {},
   "outputs": [],
   "source": []
  },
  {
   "cell_type": "code",
   "execution_count": null,
   "id": "b62f943d",
   "metadata": {},
   "outputs": [],
   "source": []
  },
  {
   "cell_type": "code",
   "execution_count": null,
   "id": "b9eecdbb",
   "metadata": {},
   "outputs": [],
   "source": []
  },
  {
   "cell_type": "code",
   "execution_count": null,
   "id": "1a74da91",
   "metadata": {},
   "outputs": [],
   "source": []
  },
  {
   "cell_type": "code",
   "execution_count": null,
   "id": "02f9fc56",
   "metadata": {},
   "outputs": [],
   "source": []
  },
  {
   "cell_type": "code",
   "execution_count": null,
   "id": "05c1389d",
   "metadata": {},
   "outputs": [],
   "source": []
  },
  {
   "cell_type": "code",
   "execution_count": null,
   "id": "dcbee687",
   "metadata": {},
   "outputs": [],
   "source": []
  },
  {
   "cell_type": "code",
   "execution_count": null,
   "id": "c28f4827",
   "metadata": {},
   "outputs": [],
   "source": []
  },
  {
   "cell_type": "code",
   "execution_count": null,
   "id": "7e8a0d06",
   "metadata": {},
   "outputs": [],
   "source": []
  },
  {
   "cell_type": "code",
   "execution_count": null,
   "id": "198ce5d5",
   "metadata": {},
   "outputs": [],
   "source": []
  },
  {
   "cell_type": "code",
   "execution_count": null,
   "id": "7cf8cbf9",
   "metadata": {},
   "outputs": [],
   "source": []
  },
  {
   "cell_type": "code",
   "execution_count": null,
   "id": "94615c6f",
   "metadata": {},
   "outputs": [],
   "source": []
  },
  {
   "cell_type": "code",
   "execution_count": null,
   "id": "36917626",
   "metadata": {},
   "outputs": [],
   "source": []
  },
  {
   "cell_type": "code",
   "execution_count": null,
   "id": "22141cf0",
   "metadata": {},
   "outputs": [],
   "source": []
  },
  {
   "cell_type": "code",
   "execution_count": null,
   "id": "d2744ab2",
   "metadata": {},
   "outputs": [],
   "source": []
  },
  {
   "cell_type": "code",
   "execution_count": null,
   "id": "14f6f863",
   "metadata": {},
   "outputs": [],
   "source": []
  },
  {
   "cell_type": "code",
   "execution_count": null,
   "id": "c617f45a",
   "metadata": {},
   "outputs": [],
   "source": []
  },
  {
   "cell_type": "code",
   "execution_count": null,
   "id": "5f70a335",
   "metadata": {},
   "outputs": [],
   "source": []
  },
  {
   "cell_type": "code",
   "execution_count": null,
   "id": "61b1f374",
   "metadata": {},
   "outputs": [],
   "source": []
  }
 ],
 "metadata": {
  "kernelspec": {
   "display_name": "vims",
   "language": "python",
   "name": "vims"
  },
  "language_info": {
   "codemirror_mode": {
    "name": "ipython",
    "version": 3
   },
   "file_extension": ".py",
   "mimetype": "text/x-python",
   "name": "python",
   "nbconvert_exporter": "python",
   "pygments_lexer": "ipython3",
   "version": "3.7.10"
  }
 },
 "nbformat": 4,
 "nbformat_minor": 5
}
