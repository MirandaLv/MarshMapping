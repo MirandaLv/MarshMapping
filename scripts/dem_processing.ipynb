{
 "cells": [
  {
   "cell_type": "code",
   "execution_count": 10,
   "id": "917d9a50",
   "metadata": {},
   "outputs": [],
   "source": [
    "import rasterio\n",
    "import pandas as pd\n",
    "import geopandas as gpd\n",
    "import os\n",
    "import rioxarray\n",
    "import shapely\n",
    "from tqdm import tqdm\n",
    "import shutil\n",
    "from itertools import product\n",
    "from rasterio import windows\n",
    "from rasterio.merge import merge\n",
    "from rasterio.plot import show\n",
    "from rasterio.mask import mask, raster_geometry_mask\n",
    "from shapely.geometry import box"
   ]
  },
  {
   "cell_type": "code",
   "execution_count": 11,
   "id": "6f788fd6",
   "metadata": {},
   "outputs": [],
   "source": [
    "project_path = os.path.abspath(\"..\")\n",
    "dem_path = os.path.join(project_path, \"data/cpb_dem/dem_tiles_big\")\n",
    "tmi_path = os.path.join(project_path, \"data/TMI_2011_2019/VA_TMI_2011_2019.shp\")"
   ]
  },
  {
   "cell_type": "code",
   "execution_count": 12,
   "id": "acc069a0",
   "metadata": {},
   "outputs": [],
   "source": [
    "# NAD83 / UTM zone 18N: 26918 (This is the projection of the DEM layers)\n",
    "# The original TMI's projection is also NAD83 / UTM zone 18N\n",
    "tmi_gdf = gpd.read_file(tmi_path)"
   ]
  },
  {
   "cell_type": "code",
   "execution_count": 13,
   "id": "8097cbec",
   "metadata": {},
   "outputs": [],
   "source": [
    "def get_tile_geom(tile_tif, crs=None):\n",
    "    \n",
    "    rds = rioxarray.open_rasterio(tile_tif)\n",
    "    \n",
    "    if crs is not None:\n",
    "\n",
    "        assert isinstance(crs, str)\n",
    "        \n",
    "        rds_proj = rds.rio.reproject(crs)\n",
    "        minx, miny, maxx, maxy = rds_proj.rio.bounds()\n",
    "        geometry = shapely.geometry.box(minx, miny, maxx, maxy, ccw=True)\n",
    "    \n",
    "    else:\n",
    "        \n",
    "        minx, miny, maxx, maxy = rds.rio.bounds()\n",
    "        geometry = shapely.geometry.box(minx, miny, maxx, maxy, ccw=True)\n",
    "    \n",
    "    return geometry\n",
    "\n",
    "\n",
    "def get_tiles(ds, width=256, height=256):\n",
    "    nols, nrows = ds.meta['width'], ds.meta['height']\n",
    "    offsets = product(range(0, nols, width), range(0, nrows, height))\n",
    "    big_window = windows.Window(col_off=0, row_off=0, width=nols, height=nrows)\n",
    "    for col_off, row_off in offsets:\n",
    "        window =windows.Window(col_off=col_off, row_off=row_off, width=width, height=height).intersection(big_window)\n",
    "        transform = windows.transform(window, ds.transform)\n",
    "        yield window, transform\n",
    "\n",
    "def cropping_dem(ref_img_path, ups_img, outfile):\n",
    "    \n",
    "    \"\"\"\n",
    "    ref_img_path: input 10m resolution band\n",
    "    ups_img_path: input low resolution band (rasterio.open() output)\n",
    "    outfile: output low resolution band with geom alinged with ref_img\n",
    "    \"\"\"\n",
    "\n",
    "    ref_img = rasterio.open(ref_img_path)\n",
    "    # get the geometry of the reference high resolution band\n",
    "    geom = box(*ref_img.bounds)\n",
    "    \n",
    "#     ups_img = rasterio.open(ups_img_path)\n",
    "    cropped, crop_transf = mask(ups_img, [geom], crop=True, filled=False, all_touched=False)\n",
    "    \n",
    "    c, h, w = cropped.shape\n",
    "    \n",
    "    meta = ups_img.meta\n",
    "    meta['width'], meta['height'] = w, h\n",
    "    meta['transform'] = crop_transf\n",
    "    meta[\"count\"] = c\n",
    "\n",
    "    with rasterio.open(outfile, 'w', **meta) as dst:\n",
    "        dst.write(cropped)"
   ]
  },
  {
   "cell_type": "code",
   "execution_count": 14,
   "id": "1aed9f38",
   "metadata": {},
   "outputs": [],
   "source": [
    "allfiles = [i for i in os.listdir(dem_path) if i.endswith('tif')]"
   ]
  },
  {
   "cell_type": "code",
   "execution_count": 15,
   "id": "3aa96150",
   "metadata": {},
   "outputs": [],
   "source": [
    "overlap_dir = os.path.join(project_path, \"data/cpb_dem/overlap_dem_tiles_big\")\n",
    "checking_overlap = False\n",
    "\n",
    "while checking_overlap:\n",
    "    \n",
    "    checking_overlap = False\n",
    "    \n",
    "    for tile in tqdm(allfiles):\n",
    "        tile_path = os.path.join(dem_path, tile)\n",
    "        patch_geom = get_tile_geom(tile_path)\n",
    "        patch_gdf = tmi_gdf[tmi_gdf.within(patch_geom)]\n",
    "\n",
    "        if not patch_gdf.empty:\n",
    "            # move all subtiles that are inter-sect with the CUSP data to a separate folder, the imageries in this folder will be used\n",
    "            # to create training/validation data\n",
    "\n",
    "            dest_path = os.path.join(overlap_dir, tile)\n",
    "            shutil.copyfile(tile_path, dest_path)\n"
   ]
  },
  {
   "cell_type": "code",
   "execution_count": 16,
   "id": "6d0fe70d",
   "metadata": {},
   "outputs": [],
   "source": [
    "overlap_tiles = [i for i in os.listdir(overlap_dir) if i.endswith(\"tif\")]"
   ]
  },
  {
   "cell_type": "code",
   "execution_count": 17,
   "id": "8ac249a2",
   "metadata": {},
   "outputs": [],
   "source": [
    "image_clipping = False\n",
    "\n",
    "cropped_path_temp = os.path.join(project_path, \"data/cpb_dem/dem_tiles_small\")\n",
    "cropped_path_overlap = os.path.join(project_path, \"data/cpb_dem/overlap_dem_tiles_small_overlaps\")\n",
    "\n",
    "\n",
    "N = 1024\n",
    "\n",
    "while image_clipping:\n",
    "    \n",
    "    image_clipping = False\n",
    "    \n",
    "    for overlap_tile in tqdm(overlap_tiles):\n",
    "        \n",
    "        output_filename = overlap_tile.split(\".\")[0] + \"_{}-{}.tif\"  #'VRGB_2017_tile_{}-{}.tif'\n",
    "        overlap_tile_path = os.path.join(overlap_dir, overlap_tile)\n",
    "        \n",
    "        with rasterio.open(overlap_tile_path) as inds:\n",
    "\n",
    "            meta = inds.meta.copy()\n",
    "\n",
    "            for window, transform in get_tiles(inds, N, N):\n",
    "\n",
    "                meta['transform'] = transform\n",
    "                meta['width'], meta['height'] = window.width, window.height\n",
    "\n",
    "                outpath = os.path.join(cropped_path_temp, output_filename.format(int(window.col_off), int(window.row_off)))\n",
    "\n",
    "                with rasterio.open(outpath, 'w', **meta) as outds:\n",
    "                    outds.write(inds.read(window=window))\n",
    "\n",
    "\n",
    "                patch_geom = get_tile_geom(outpath)\n",
    "                patch_gdf = tmi_gdf[tmi_gdf.overlaps(patch_geom)]\n",
    "\n",
    "                if not patch_gdf.empty:\n",
    "\n",
    "                    # move all subtiles that are inter-sect with the CUSP data to a separate folder, the imageries in this folder will be used\n",
    "                    # to create training/validation data\n",
    "\n",
    "                    patch_path = os.path.join(cropped_path_overlap, output_filename.format(int(window.col_off), int(window.row_off)))\n",
    "\n",
    "                    shutil.copyfile(outpath, patch_path)\n"
   ]
  },
  {
   "cell_type": "code",
   "execution_count": 18,
   "id": "0dd034b5",
   "metadata": {},
   "outputs": [],
   "source": [
    "gen_overlaps = False\n",
    "\n",
    "cropped_path_temp = os.path.join(project_path, \"data/cpb_dem/dem_tiles_small\")\n",
    "cropped_path_overlap = os.path.join(project_path, \"data/cpb_dem/overlap_dem_tiles_small_intersects\")\n",
    "\n",
    "small_tiles = [i for i in os.listdir(cropped_path_temp) if i.endswith(\"tif\")]\n",
    "\n",
    "while gen_overlaps:\n",
    "    \n",
    "    gen_overlaps = False\n",
    "    \n",
    "    for small_tile in tqdm(small_tiles):\n",
    "        \n",
    "        small_tile_path = os.path.join(cropped_path_temp, small_tile)\n",
    "\n",
    "        patch_geom = get_tile_geom(small_tile_path)\n",
    "        patch_gdf = tmi_gdf[tmi_gdf.intersects(patch_geom)]\n",
    "\n",
    "        if not patch_gdf.empty:\n",
    "\n",
    "            # move all subtiles that are inter-sect with the CUSP data to a separate folder, the imageries in this folder will be used\n",
    "            # to create training/validation data\n",
    "\n",
    "            patch_path = os.path.join(cropped_path_overlap, small_tile)\n",
    "            shutil.copyfile(small_tile_path, patch_path)\n"
   ]
  },
  {
   "cell_type": "code",
   "execution_count": null,
   "id": "b1e7a3b8",
   "metadata": {},
   "outputs": [],
   "source": []
  },
  {
   "cell_type": "code",
   "execution_count": 10,
   "id": "a29487c7",
   "metadata": {},
   "outputs": [],
   "source": [
    "# # Below code can be done by using gdal_merge.py if it is running out of the memory\n",
    "\n",
    "# mosaic_files = False\n",
    "\n",
    "# while mosaic_files:\n",
    "    \n",
    "#     mosaic_files = False\n",
    "\n",
    "#     src_files_to_mosaic = [rasterio.open(os.path.join(cropped_path_overlap, i)) for i in os.listdir(cropped_path_overlap) if i.endswith(\"tif\")]\n",
    "    \n",
    "#     mosaic, out_trans = merge(src_files_to_mosaic)\n",
    "\n",
    "\n",
    "# out_meta = src.meta.copy()\n",
    "# out_mosaic_file = os.path.join(project_path, 'data/cpb_dem/mosaic_dem_new.tif')\n",
    "\n",
    "# # Update the metadata\n",
    "# out_meta.update({\"driver\": \"GTiff\",\n",
    "#     \"height\": mosaic.shape[1],\n",
    "#     \"width\": mosaic.shape[2],\n",
    "#     \"transform\": out_trans})\n",
    "\n",
    "# with rasterio.open(out_mosaic_file, \"w\", **out_meta) as dest:\n",
    "#     dest.write(mosaic)"
   ]
  },
  {
   "cell_type": "code",
   "execution_count": 11,
   "id": "7770b620",
   "metadata": {},
   "outputs": [],
   "source": [
    "# Mosaic all small tiles with gdal_merge.py\n",
    "# Convert the mosaic file into wgs84 with gdalwarp out.tif mosaic_dem_wgs84.tif -t_srs \"+proj=longlat +ellps=WGS84\""
   ]
  },
  {
   "cell_type": "code",
   "execution_count": null,
   "id": "3f9bd5fb",
   "metadata": {},
   "outputs": [],
   "source": []
  },
  {
   "cell_type": "code",
   "execution_count": null,
   "id": "d3b902b9",
   "metadata": {},
   "outputs": [],
   "source": []
  },
  {
   "cell_type": "code",
   "execution_count": 19,
   "id": "63524eb1",
   "metadata": {},
   "outputs": [],
   "source": [
    "# tmi label data\n",
    "tmi_labels_dir = os.path.join(project_path, \"data/NAIP_data_processing/tmi_labels\")\n",
    "tmi_labels = [i for i in os.listdir(tmi_labels_dir) if i.endswith(\"tif\")]\n",
    "out_mosaic_file = os.path.join(project_path, \"data/cpb_dem/mosaic_dem_wgs84.tif\")"
   ]
  },
  {
   "cell_type": "code",
   "execution_count": 20,
   "id": "8f4c4e0e",
   "metadata": {},
   "outputs": [],
   "source": [
    "gen_dem_patch = False\n",
    "\n",
    "while gen_dem_patch:\n",
    "    \n",
    "    gen_dem_patch = False\n",
    "    \n",
    "    dem_src = rasterio.open(out_mosaic_file)\n",
    "\n",
    "    for tmi in tqdm(tmi_labels):\n",
    "\n",
    "        tmi_file = os.path.join(tmi_labels_dir, tmi)\n",
    "        out_dem_file = os.path.join(project_path, \"data/NAIP_data_processing/dem_patch\", tmi)\n",
    "        cropping_bands(tmi_file, dem_src, out_dem_file)\n"
   ]
  },
  {
   "cell_type": "code",
   "execution_count": 14,
   "id": "8120083a",
   "metadata": {},
   "outputs": [
    {
     "data": {
      "text/plain": [
       "{'driver': 'GTiff',\n",
       " 'dtype': 'float32',\n",
       " 'nodata': None,\n",
       " 'width': 225115,\n",
       " 'height': 237524,\n",
       " 'count': 1,\n",
       " 'crs': CRS.from_wkt('GEOGCS[\"unknown\",DATUM[\"Unknown_based_on_WGS84_ellipsoid\",SPHEROID[\"WGS 84\",6378137,298.257223563,AUTHORITY[\"EPSG\",\"7030\"]]],PRIMEM[\"Greenwich\",0],UNIT[\"degree\",0.0174532925199433,AUTHORITY[\"EPSG\",\"9122\"]],AXIS[\"Latitude\",NORTH],AXIS[\"Longitude\",EAST]]'),\n",
       " 'transform': Affine(9.943021556206257e-06, 0.0, -77.48173212745465,\n",
       "        0.0, -9.943021556206257e-06, 38.89102857322552)}"
      ]
     },
     "execution_count": 14,
     "metadata": {},
     "output_type": "execute_result"
    }
   ],
   "source": [
    "dem_src.meta"
   ]
  },
  {
   "cell_type": "code",
   "execution_count": 17,
   "id": "66783ab6",
   "metadata": {},
   "outputs": [],
   "source": [
    "tmi_test = rasterio.open(os.path.join(tmi_labels_dir, tmi_labels[0]))"
   ]
  },
  {
   "cell_type": "code",
   "execution_count": 18,
   "id": "c0536558",
   "metadata": {},
   "outputs": [
    {
     "data": {
      "text/plain": [
       "{'driver': 'GTiff',\n",
       " 'dtype': 'uint8',\n",
       " 'nodata': None,\n",
       " 'width': 256,\n",
       " 'height': 256,\n",
       " 'count': 1,\n",
       " 'crs': CRS.from_epsg(4326),\n",
       " 'transform': Affine(5.998318744046421e-06, 0.0, -76.54978047876965,\n",
       "        0.0, -5.998318744046421e-06, 36.84168643192865)}"
      ]
     },
     "execution_count": 18,
     "metadata": {},
     "output_type": "execute_result"
    }
   ],
   "source": [
    "tmi_test.meta"
   ]
  },
  {
   "cell_type": "code",
   "execution_count": 24,
   "id": "3b4f410b",
   "metadata": {},
   "outputs": [
    {
     "data": {
      "text/plain": [
       "'float32'"
      ]
     },
     "execution_count": 24,
     "metadata": {},
     "output_type": "execute_result"
    }
   ],
   "source": [
    "dem_src.meta['dtype']"
   ]
  },
  {
   "cell_type": "code",
   "execution_count": null,
   "id": "3eb45a9a",
   "metadata": {},
   "outputs": [],
   "source": []
  },
  {
   "cell_type": "code",
   "execution_count": null,
   "id": "1c7513b6",
   "metadata": {},
   "outputs": [],
   "source": []
  },
  {
   "cell_type": "code",
   "execution_count": null,
   "id": "9ff54152",
   "metadata": {},
   "outputs": [],
   "source": []
  },
  {
   "cell_type": "code",
   "execution_count": null,
   "id": "8749daba",
   "metadata": {},
   "outputs": [],
   "source": []
  },
  {
   "cell_type": "code",
   "execution_count": null,
   "id": "6d77e27e",
   "metadata": {},
   "outputs": [],
   "source": []
  },
  {
   "cell_type": "code",
   "execution_count": null,
   "id": "5c690dd8",
   "metadata": {},
   "outputs": [],
   "source": []
  },
  {
   "cell_type": "code",
   "execution_count": null,
   "id": "c23fdc2e",
   "metadata": {},
   "outputs": [],
   "source": []
  },
  {
   "cell_type": "code",
   "execution_count": null,
   "id": "fd473fd5",
   "metadata": {},
   "outputs": [],
   "source": []
  }
 ],
 "metadata": {
  "kernelspec": {
   "display_name": "vims",
   "language": "python",
   "name": "vims"
  },
  "language_info": {
   "codemirror_mode": {
    "name": "ipython",
    "version": 3
   },
   "file_extension": ".py",
   "mimetype": "text/x-python",
   "name": "python",
   "nbconvert_exporter": "python",
   "pygments_lexer": "ipython3",
   "version": "3.7.10"
  }
 },
 "nbformat": 4,
 "nbformat_minor": 5
}
