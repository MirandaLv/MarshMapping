{
 "cells": [
  {
   "cell_type": "code",
<<<<<<< HEAD
   "execution_count": 1,
   "id": "93198ee7",
=======
   "execution_count": 89,
   "id": "0693b698",
>>>>>>> a00eda755a52df37f51b0ab56be0654bdd1c7e33
   "metadata": {},
   "outputs": [],
   "source": [
    "# This script is used to pre-process the cropped boarder patches\n",
    "import os\n",
    "import numpy as np\n",
    "import pandas as pd\n",
    "import rasterio\n",
    "import sys\n",
    "import geopandas as gpd\n",
    "from pathlib import Path\n",
    "from tqdm import tqdm\n",
    "from rasterio.mask import mask, raster_geometry_mask\n",
    "from shapely.geometry import box\n",
    "from rasterio.enums import Resampling\n",
    "from itertools import product\n",
    "from rasterio import windows\n",
    "import rioxarray\n",
    "import shapely\n",
    "import shutil\n",
    "from osgeo import gdal\n",
    "\n",
    "path_cur = os.path.abspath('.')\n",
    "sys.path.append(path_cur)\n",
    "\n",
    "from os.path import dirname as up"
   ]
  },
  {
   "cell_type": "code",
<<<<<<< HEAD
   "execution_count": 2,
   "id": "1958b923",
=======
   "execution_count": 90,
   "id": "12457b32",
>>>>>>> a00eda755a52df37f51b0ab56be0654bdd1c7e33
   "metadata": {},
   "outputs": [],
   "source": [
    "label_file = Path(os.path.join(up(up(path_cur)), 'MarshMapping_local/data/NAIP_data_processing/labels_tmi_modified.csv'))\n",
    "out_file = Path(os.path.join(up(up(path_cur)), 'MarshMapping_local/data/NAIP_data_processing/labels_tmi_modified_valid.csv'))"
   ]
  },
  {
   "cell_type": "code",
<<<<<<< HEAD
   "execution_count": 3,
   "id": "043f2d3f",
=======
   "execution_count": 91,
   "id": "38e21b8d",
>>>>>>> a00eda755a52df37f51b0ab56be0654bdd1c7e33
   "metadata": {},
   "outputs": [],
   "source": [
    "df = pd.read_csv(label_file)"
   ]
  },
  {
   "cell_type": "code",
<<<<<<< HEAD
   "execution_count": 4,
   "id": "d7728435",
=======
   "execution_count": 92,
   "id": "dc87736b",
>>>>>>> a00eda755a52df37f51b0ab56be0654bdd1c7e33
   "metadata": {},
   "outputs": [
    {
     "data": {
      "text/plain": [
       "(4, 256, 256)"
      ]
     },
     "execution_count": 92,
     "metadata": {},
     "output_type": "execute_result"
    }
   ],
   "source": [
    "testfile = df['patch_name'][0]\n",
    "rasterio.open(testfile).read().shape"
   ]
  },
  {
   "cell_type": "code",
<<<<<<< HEAD
   "execution_count": 5,
   "id": "bed534c3",
=======
   "execution_count": 111,
   "id": "2bd4b18f",
>>>>>>> a00eda755a52df37f51b0ab56be0654bdd1c7e33
   "metadata": {},
   "outputs": [],
   "source": [
    "def filter_image_size(img, size):\n",
    "\n",
    "    image = rasterio.open(img).read()\n",
    "    w,h = image.shape[1:]\n",
    "    \n",
    "    if w!=size or h!=size:\n",
    "        return 0\n",
    "    else:\n",
    "        return 1\n",
    "\n",
    "def filter_image_zero(img):\n",
    "    \n",
    "    image = rasterio.open(img).read()\n",
    "    \n",
    "    zero_count = len(np.where(image==0)[0])\n",
    "    \n",
    "    if zero_count > 0:\n",
    "        return 0\n",
    "    else:\n",
    "        return 1\n",
    "\n",
    "def calculate_weights(img, val):\n",
    "    \n",
    "    image_array = rasterio.open(img).read(1)\n",
    "    val_count = len(image_array[image_array==int(val)])\n",
    "\n",
    "    return val_count\n",
    "\n",
    "\n",
    "def get_patch_name(img):\n",
    "    \n",
    "    return os.path.basename(img)\n",
    "        \n",
<<<<<<< HEAD
    "\n",
    "def get_sum(x):\n",
    "    \n",
    "    count_sum = x['class_0'] + x['class_1'] + x['class_2'] + x['class_3'] + x['class_4'] + x['class_5'] + x['class_6'] + x['class_7'] + x['class_8'] + x['class_9']\n",
    "    \n",
    "    return  count_sum"
=======
    "        "
>>>>>>> a00eda755a52df37f51b0ab56be0654bdd1c7e33
   ]
  },
  {
   "cell_type": "code",
<<<<<<< HEAD
   "execution_count": 7,
   "id": "31be004e",
   "metadata": {},
   "outputs": [],
   "source": [
    "df['filter_size'] = df['patch_name'].apply(lambda x: filter_image_size(x, 256))\n",
=======
   "execution_count": 94,
   "id": "d2ecccf1",
   "metadata": {},
   "outputs": [],
   "source": [
    "df['filter_size'] = df['patch_name'].apply(lambda x: filter_image_size(x))\n",
>>>>>>> a00eda755a52df37f51b0ab56be0654bdd1c7e33
    "df['filter_zero'] = df['patch_name'].apply(lambda x: filter_image_zero(x))"
   ]
  },
  {
   "cell_type": "code",
<<<<<<< HEAD
   "execution_count": 8,
   "id": "825fd116",
=======
   "execution_count": 95,
   "id": "3c0ce85a",
>>>>>>> a00eda755a52df37f51b0ab56be0654bdd1c7e33
   "metadata": {},
   "outputs": [],
   "source": [
    "df['none_marsh'] = df['label'].apply(lambda x: calculate_weights(x, 0))\n",
    "df['marsh'] = df['label'].apply(lambda x: calculate_weights(x, 1))"
   ]
  },
  {
   "cell_type": "code",
<<<<<<< HEAD
   "execution_count": 9,
   "id": "c83b0d22",
=======
   "execution_count": 96,
   "id": "f8cf6e6e",
>>>>>>> a00eda755a52df37f51b0ab56be0654bdd1c7e33
   "metadata": {},
   "outputs": [
    {
     "data": {
      "text/html": [
       "<div>\n",
       "<style scoped>\n",
       "    .dataframe tbody tr th:only-of-type {\n",
       "        vertical-align: middle;\n",
       "    }\n",
       "\n",
       "    .dataframe tbody tr th {\n",
       "        vertical-align: top;\n",
       "    }\n",
       "\n",
       "    .dataframe thead th {\n",
       "        text-align: right;\n",
       "    }\n",
       "</style>\n",
       "<table border=\"1\" class=\"dataframe\">\n",
       "  <thead>\n",
       "    <tr style=\"text-align: right;\">\n",
       "      <th></th>\n",
       "      <th>patch_name</th>\n",
       "      <th>label</th>\n",
       "      <th>filter_size</th>\n",
       "      <th>filter_zero</th>\n",
       "      <th>none_marsh</th>\n",
       "      <th>marsh</th>\n",
       "    </tr>\n",
       "  </thead>\n",
       "  <tbody>\n",
       "    <tr>\n",
       "      <th>0</th>\n",
       "      <td>/rapids/notebooks/sciclone/geograd/Miranda/git...</td>\n",
       "      <td>/rapids/notebooks/sciclone/geograd/Miranda/git...</td>\n",
       "      <td>1</td>\n",
       "      <td>1</td>\n",
       "      <td>65536</td>\n",
       "      <td>0</td>\n",
       "    </tr>\n",
       "    <tr>\n",
       "      <th>1</th>\n",
       "      <td>/rapids/notebooks/sciclone/geograd/Miranda/git...</td>\n",
       "      <td>/rapids/notebooks/sciclone/geograd/Miranda/git...</td>\n",
       "      <td>1</td>\n",
       "      <td>1</td>\n",
       "      <td>43651</td>\n",
       "      <td>21885</td>\n",
       "    </tr>\n",
       "    <tr>\n",
       "      <th>2</th>\n",
       "      <td>/rapids/notebooks/sciclone/geograd/Miranda/git...</td>\n",
       "      <td>/rapids/notebooks/sciclone/geograd/Miranda/git...</td>\n",
       "      <td>1</td>\n",
       "      <td>1</td>\n",
       "      <td>57891</td>\n",
       "      <td>7645</td>\n",
       "    </tr>\n",
       "    <tr>\n",
       "      <th>3</th>\n",
       "      <td>/rapids/notebooks/sciclone/geograd/Miranda/git...</td>\n",
       "      <td>/rapids/notebooks/sciclone/geograd/Miranda/git...</td>\n",
       "      <td>1</td>\n",
       "      <td>1</td>\n",
       "      <td>60878</td>\n",
       "      <td>4658</td>\n",
       "    </tr>\n",
       "    <tr>\n",
       "      <th>4</th>\n",
       "      <td>/rapids/notebooks/sciclone/geograd/Miranda/git...</td>\n",
       "      <td>/rapids/notebooks/sciclone/geograd/Miranda/git...</td>\n",
       "      <td>1</td>\n",
       "      <td>1</td>\n",
       "      <td>64032</td>\n",
       "      <td>1504</td>\n",
       "    </tr>\n",
       "    <tr>\n",
       "      <th>...</th>\n",
       "      <td>...</td>\n",
       "      <td>...</td>\n",
       "      <td>...</td>\n",
       "      <td>...</td>\n",
       "      <td>...</td>\n",
       "      <td>...</td>\n",
       "    </tr>\n",
       "    <tr>\n",
       "      <th>3870</th>\n",
       "      <td>/rapids/notebooks/sciclone/geograd/Miranda/git...</td>\n",
       "      <td>/rapids/notebooks/sciclone/geograd/Miranda/git...</td>\n",
       "      <td>1</td>\n",
       "      <td>1</td>\n",
       "      <td>60930</td>\n",
       "      <td>4606</td>\n",
       "    </tr>\n",
       "    <tr>\n",
       "      <th>3871</th>\n",
       "      <td>/rapids/notebooks/sciclone/geograd/Miranda/git...</td>\n",
       "      <td>/rapids/notebooks/sciclone/geograd/Miranda/git...</td>\n",
       "      <td>1</td>\n",
       "      <td>1</td>\n",
       "      <td>56441</td>\n",
       "      <td>9095</td>\n",
       "    </tr>\n",
       "    <tr>\n",
       "      <th>3872</th>\n",
       "      <td>/rapids/notebooks/sciclone/geograd/Miranda/git...</td>\n",
       "      <td>/rapids/notebooks/sciclone/geograd/Miranda/git...</td>\n",
       "      <td>1</td>\n",
       "      <td>1</td>\n",
       "      <td>53419</td>\n",
       "      <td>12117</td>\n",
       "    </tr>\n",
       "    <tr>\n",
       "      <th>3873</th>\n",
       "      <td>/rapids/notebooks/sciclone/geograd/Miranda/git...</td>\n",
       "      <td>/rapids/notebooks/sciclone/geograd/Miranda/git...</td>\n",
       "      <td>1</td>\n",
       "      <td>1</td>\n",
       "      <td>48535</td>\n",
       "      <td>17001</td>\n",
       "    </tr>\n",
       "    <tr>\n",
       "      <th>3874</th>\n",
       "      <td>/rapids/notebooks/sciclone/geograd/Miranda/git...</td>\n",
       "      <td>/rapids/notebooks/sciclone/geograd/Miranda/git...</td>\n",
       "      <td>1</td>\n",
       "      <td>1</td>\n",
       "      <td>48598</td>\n",
       "      <td>16938</td>\n",
       "    </tr>\n",
       "  </tbody>\n",
       "</table>\n",
       "<p>3875 rows × 6 columns</p>\n",
       "</div>"
      ],
      "text/plain": [
       "                                             patch_name  \\\n",
       "0     /rapids/notebooks/sciclone/geograd/Miranda/git...   \n",
       "1     /rapids/notebooks/sciclone/geograd/Miranda/git...   \n",
       "2     /rapids/notebooks/sciclone/geograd/Miranda/git...   \n",
       "3     /rapids/notebooks/sciclone/geograd/Miranda/git...   \n",
       "4     /rapids/notebooks/sciclone/geograd/Miranda/git...   \n",
       "...                                                 ...   \n",
       "3870  /rapids/notebooks/sciclone/geograd/Miranda/git...   \n",
       "3871  /rapids/notebooks/sciclone/geograd/Miranda/git...   \n",
       "3872  /rapids/notebooks/sciclone/geograd/Miranda/git...   \n",
       "3873  /rapids/notebooks/sciclone/geograd/Miranda/git...   \n",
       "3874  /rapids/notebooks/sciclone/geograd/Miranda/git...   \n",
       "\n",
       "                                                  label  filter_size  \\\n",
       "0     /rapids/notebooks/sciclone/geograd/Miranda/git...            1   \n",
       "1     /rapids/notebooks/sciclone/geograd/Miranda/git...            1   \n",
       "2     /rapids/notebooks/sciclone/geograd/Miranda/git...            1   \n",
       "3     /rapids/notebooks/sciclone/geograd/Miranda/git...            1   \n",
       "4     /rapids/notebooks/sciclone/geograd/Miranda/git...            1   \n",
       "...                                                 ...          ...   \n",
       "3870  /rapids/notebooks/sciclone/geograd/Miranda/git...            1   \n",
       "3871  /rapids/notebooks/sciclone/geograd/Miranda/git...            1   \n",
       "3872  /rapids/notebooks/sciclone/geograd/Miranda/git...            1   \n",
       "3873  /rapids/notebooks/sciclone/geograd/Miranda/git...            1   \n",
       "3874  /rapids/notebooks/sciclone/geograd/Miranda/git...            1   \n",
       "\n",
       "      filter_zero  none_marsh  marsh  \n",
       "0               1       65536      0  \n",
       "1               1       43651  21885  \n",
       "2               1       57891   7645  \n",
       "3               1       60878   4658  \n",
       "4               1       64032   1504  \n",
       "...           ...         ...    ...  \n",
       "3870            1       60930   4606  \n",
       "3871            1       56441   9095  \n",
       "3872            1       53419  12117  \n",
       "3873            1       48535  17001  \n",
       "3874            1       48598  16938  \n",
       "\n",
       "[3875 rows x 6 columns]"
      ]
     },
<<<<<<< HEAD
     "execution_count": 9,
=======
     "execution_count": 96,
>>>>>>> a00eda755a52df37f51b0ab56be0654bdd1c7e33
     "metadata": {},
     "output_type": "execute_result"
    }
   ],
   "source": [
    "df"
<<<<<<< HEAD
   ]
  },
  {
   "cell_type": "code",
   "execution_count": 10,
   "id": "7d23f1f2",
   "metadata": {},
   "outputs": [],
   "source": [
    "# df['valid'] = df.apply(lambda x: get_valid(x), axis=1)\n",
    "valids = []\n",
    "\n",
    "for index, row in df.iterrows():\n",
    "    if row['filter_size']==1 and row['filter_zero']==1 and row['none_marsh']>0 and row['marsh']>0:\n",
    "        valids.append(1)\n",
    "    else:\n",
    "        valids.append(0)\n"
   ]
  },
  {
   "cell_type": "code",
   "execution_count": 11,
   "id": "f1c83e0d",
   "metadata": {},
   "outputs": [],
   "source": [
    "df['valid'] = valids"
=======
>>>>>>> a00eda755a52df37f51b0ab56be0654bdd1c7e33
   ]
  },
  {
   "cell_type": "code",
<<<<<<< HEAD
   "execution_count": 12,
   "id": "cfbaa55a",
   "metadata": {},
   "outputs": [],
   "source": [
    "none_marsh_count = df[df['valid']==1]['none_marsh'].sum()\n",
    "marsh_count = df[df['valid']==1]['marsh'].sum()"
=======
   "execution_count": 103,
   "id": "9ae38c17",
   "metadata": {},
   "outputs": [],
   "source": [
    "# df['valid'] = df.apply(lambda x: get_valid(x), axis=1)\n",
    "valids = []\n",
    "\n",
    "for index, row in df.iterrows():\n",
    "    if row['filter_size']==1 and row['filter_zero']==1 and row['none_marsh']>0 and row['marsh']>0:\n",
    "        valids.append(1)\n",
    "    else:\n",
    "        valids.append(0)\n"
>>>>>>> a00eda755a52df37f51b0ab56be0654bdd1c7e33
   ]
  },
  {
   "cell_type": "code",
<<<<<<< HEAD
   "execution_count": 13,
   "id": "b676c1a5",
   "metadata": {},
   "outputs": [],
   "source": [
    "weights = [none_marsh_count / (none_marsh_count + marsh_count), marsh_count / (none_marsh_count + marsh_count)]"
=======
   "execution_count": 104,
   "id": "8c4b5d91",
   "metadata": {},
   "outputs": [],
   "source": [
    "df['valid'] = valids"
>>>>>>> a00eda755a52df37f51b0ab56be0654bdd1c7e33
   ]
  },
  {
   "cell_type": "code",
<<<<<<< HEAD
   "execution_count": 14,
   "id": "6116425f",
   "metadata": {},
   "outputs": [
    {
     "data": {
      "text/plain": [
       "[0.8345623386613673, 0.16543766133863266]"
      ]
     },
     "execution_count": 14,
     "metadata": {},
     "output_type": "execute_result"
    }
   ],
   "source": [
    "weights"
   ]
  },
  {
   "cell_type": "code",
   "execution_count": 15,
   "id": "ba71f3eb",
   "metadata": {},
   "outputs": [],
   "source": [
    "df = df.rename(columns={\"patch_name\": \"patch_path\", \"label\": \"label_path\"})"
=======
   "execution_count": 105,
   "id": "71223c53",
   "metadata": {},
   "outputs": [],
   "source": [
    "none_marsh_count = df[df['valid']==1]['none_marsh'].sum()\n",
    "marsh_count = df[df['valid']==1]['marsh'].sum()"
>>>>>>> a00eda755a52df37f51b0ab56be0654bdd1c7e33
   ]
  },
  {
   "cell_type": "code",
<<<<<<< HEAD
   "execution_count": 16,
   "id": "5266a604",
   "metadata": {},
   "outputs": [],
   "source": [
    "df['patch_name'] = df['patch_path'].apply(lambda x: get_patch_name(x))"
=======
   "execution_count": 120,
   "id": "0d2c1c0e",
   "metadata": {},
   "outputs": [],
   "source": [
    "weights = [none_marsh_count / (none_marsh_count + marsh_count), marsh_count / (none_marsh_count + marsh_count)]"
>>>>>>> a00eda755a52df37f51b0ab56be0654bdd1c7e33
   ]
  },
  {
   "cell_type": "code",
<<<<<<< HEAD
   "execution_count": 17,
   "id": "a9d03264",
=======
   "execution_count": 121,
   "id": "540df8b9",
>>>>>>> a00eda755a52df37f51b0ab56be0654bdd1c7e33
   "metadata": {},
   "outputs": [
    {
     "data": {
<<<<<<< HEAD
      "text/html": [
       "<div>\n",
       "<style scoped>\n",
       "    .dataframe tbody tr th:only-of-type {\n",
       "        vertical-align: middle;\n",
       "    }\n",
       "\n",
       "    .dataframe tbody tr th {\n",
       "        vertical-align: top;\n",
       "    }\n",
       "\n",
       "    .dataframe thead th {\n",
       "        text-align: right;\n",
       "    }\n",
       "</style>\n",
       "<table border=\"1\" class=\"dataframe\">\n",
       "  <thead>\n",
       "    <tr style=\"text-align: right;\">\n",
       "      <th></th>\n",
       "      <th>patch_path</th>\n",
       "      <th>label_path</th>\n",
       "      <th>filter_size</th>\n",
       "      <th>filter_zero</th>\n",
       "      <th>none_marsh</th>\n",
       "      <th>marsh</th>\n",
       "      <th>valid</th>\n",
       "      <th>patch_name</th>\n",
       "    </tr>\n",
       "  </thead>\n",
       "  <tbody>\n",
       "    <tr>\n",
       "      <th>0</th>\n",
       "      <td>/rapids/notebooks/sciclone/geograd/Miranda/git...</td>\n",
       "      <td>/rapids/notebooks/sciclone/geograd/Miranda/git...</td>\n",
       "      <td>1</td>\n",
       "      <td>1</td>\n",
       "      <td>65536</td>\n",
       "      <td>0</td>\n",
       "      <td>0</td>\n",
       "      <td>m_3607612_ne_18_060_20180830_wgs84_tile_2816-6...</td>\n",
       "    </tr>\n",
       "    <tr>\n",
       "      <th>1</th>\n",
       "      <td>/rapids/notebooks/sciclone/geograd/Miranda/git...</td>\n",
       "      <td>/rapids/notebooks/sciclone/geograd/Miranda/git...</td>\n",
       "      <td>1</td>\n",
       "      <td>1</td>\n",
       "      <td>43651</td>\n",
       "      <td>21885</td>\n",
       "      <td>1</td>\n",
       "      <td>m_3607612_ne_18_060_20180830_wgs84_tile_6144-1...</td>\n",
       "    </tr>\n",
       "    <tr>\n",
       "      <th>2</th>\n",
       "      <td>/rapids/notebooks/sciclone/geograd/Miranda/git...</td>\n",
       "      <td>/rapids/notebooks/sciclone/geograd/Miranda/git...</td>\n",
       "      <td>1</td>\n",
       "      <td>1</td>\n",
       "      <td>57891</td>\n",
       "      <td>7645</td>\n",
       "      <td>1</td>\n",
       "      <td>m_3607612_ne_18_060_20180830_wgs84_tile_6912-5...</td>\n",
       "    </tr>\n",
       "    <tr>\n",
       "      <th>3</th>\n",
       "      <td>/rapids/notebooks/sciclone/geograd/Miranda/git...</td>\n",
       "      <td>/rapids/notebooks/sciclone/geograd/Miranda/git...</td>\n",
       "      <td>1</td>\n",
       "      <td>1</td>\n",
       "      <td>60878</td>\n",
       "      <td>4658</td>\n",
       "      <td>1</td>\n",
       "      <td>m_3607501_sw_18_060_20180827_wgs84_tile_256-11...</td>\n",
       "    </tr>\n",
       "    <tr>\n",
       "      <th>4</th>\n",
       "      <td>/rapids/notebooks/sciclone/geograd/Miranda/git...</td>\n",
       "      <td>/rapids/notebooks/sciclone/geograd/Miranda/git...</td>\n",
       "      <td>1</td>\n",
       "      <td>1</td>\n",
       "      <td>64032</td>\n",
       "      <td>1504</td>\n",
       "      <td>1</td>\n",
       "      <td>m_3607501_sw_18_060_20180827_wgs84_tile_768-11...</td>\n",
       "    </tr>\n",
       "    <tr>\n",
       "      <th>...</th>\n",
       "      <td>...</td>\n",
       "      <td>...</td>\n",
       "      <td>...</td>\n",
       "      <td>...</td>\n",
       "      <td>...</td>\n",
       "      <td>...</td>\n",
       "      <td>...</td>\n",
       "      <td>...</td>\n",
       "    </tr>\n",
       "    <tr>\n",
       "      <th>3870</th>\n",
       "      <td>/rapids/notebooks/sciclone/geograd/Miranda/git...</td>\n",
       "      <td>/rapids/notebooks/sciclone/geograd/Miranda/git...</td>\n",
       "      <td>1</td>\n",
       "      <td>1</td>\n",
       "      <td>60930</td>\n",
       "      <td>4606</td>\n",
       "      <td>1</td>\n",
       "      <td>m_3807764_nw_18_060_20180827_wgs84_tile_10240-...</td>\n",
       "    </tr>\n",
       "    <tr>\n",
       "      <th>3871</th>\n",
       "      <td>/rapids/notebooks/sciclone/geograd/Miranda/git...</td>\n",
       "      <td>/rapids/notebooks/sciclone/geograd/Miranda/git...</td>\n",
       "      <td>1</td>\n",
       "      <td>1</td>\n",
       "      <td>56441</td>\n",
       "      <td>9095</td>\n",
       "      <td>1</td>\n",
       "      <td>m_3807764_nw_18_060_20180827_wgs84_tile_11008-...</td>\n",
       "    </tr>\n",
       "    <tr>\n",
       "      <th>3872</th>\n",
       "      <td>/rapids/notebooks/sciclone/geograd/Miranda/git...</td>\n",
       "      <td>/rapids/notebooks/sciclone/geograd/Miranda/git...</td>\n",
       "      <td>1</td>\n",
       "      <td>1</td>\n",
       "      <td>53419</td>\n",
       "      <td>12117</td>\n",
       "      <td>1</td>\n",
       "      <td>m_3807764_nw_18_060_20180827_wgs84_tile_11264-...</td>\n",
       "    </tr>\n",
       "    <tr>\n",
       "      <th>3873</th>\n",
       "      <td>/rapids/notebooks/sciclone/geograd/Miranda/git...</td>\n",
       "      <td>/rapids/notebooks/sciclone/geograd/Miranda/git...</td>\n",
       "      <td>1</td>\n",
       "      <td>1</td>\n",
       "      <td>48535</td>\n",
       "      <td>17001</td>\n",
       "      <td>1</td>\n",
       "      <td>m_3807764_nw_18_060_20180827_wgs84_tile_11520-...</td>\n",
       "    </tr>\n",
       "    <tr>\n",
       "      <th>3874</th>\n",
       "      <td>/rapids/notebooks/sciclone/geograd/Miranda/git...</td>\n",
       "      <td>/rapids/notebooks/sciclone/geograd/Miranda/git...</td>\n",
       "      <td>1</td>\n",
       "      <td>1</td>\n",
       "      <td>48598</td>\n",
       "      <td>16938</td>\n",
       "      <td>1</td>\n",
       "      <td>m_3807764_nw_18_060_20180827_wgs84_tile_11520-...</td>\n",
       "    </tr>\n",
       "  </tbody>\n",
       "</table>\n",
       "<p>3875 rows × 8 columns</p>\n",
       "</div>"
      ],
      "text/plain": [
       "                                             patch_path  \\\n",
       "0     /rapids/notebooks/sciclone/geograd/Miranda/git...   \n",
       "1     /rapids/notebooks/sciclone/geograd/Miranda/git...   \n",
       "2     /rapids/notebooks/sciclone/geograd/Miranda/git...   \n",
       "3     /rapids/notebooks/sciclone/geograd/Miranda/git...   \n",
       "4     /rapids/notebooks/sciclone/geograd/Miranda/git...   \n",
       "...                                                 ...   \n",
       "3870  /rapids/notebooks/sciclone/geograd/Miranda/git...   \n",
       "3871  /rapids/notebooks/sciclone/geograd/Miranda/git...   \n",
       "3872  /rapids/notebooks/sciclone/geograd/Miranda/git...   \n",
       "3873  /rapids/notebooks/sciclone/geograd/Miranda/git...   \n",
       "3874  /rapids/notebooks/sciclone/geograd/Miranda/git...   \n",
       "\n",
       "                                             label_path  filter_size  \\\n",
       "0     /rapids/notebooks/sciclone/geograd/Miranda/git...            1   \n",
       "1     /rapids/notebooks/sciclone/geograd/Miranda/git...            1   \n",
       "2     /rapids/notebooks/sciclone/geograd/Miranda/git...            1   \n",
       "3     /rapids/notebooks/sciclone/geograd/Miranda/git...            1   \n",
       "4     /rapids/notebooks/sciclone/geograd/Miranda/git...            1   \n",
       "...                                                 ...          ...   \n",
       "3870  /rapids/notebooks/sciclone/geograd/Miranda/git...            1   \n",
       "3871  /rapids/notebooks/sciclone/geograd/Miranda/git...            1   \n",
       "3872  /rapids/notebooks/sciclone/geograd/Miranda/git...            1   \n",
       "3873  /rapids/notebooks/sciclone/geograd/Miranda/git...            1   \n",
       "3874  /rapids/notebooks/sciclone/geograd/Miranda/git...            1   \n",
       "\n",
       "      filter_zero  none_marsh  marsh  valid  \\\n",
       "0               1       65536      0      0   \n",
       "1               1       43651  21885      1   \n",
       "2               1       57891   7645      1   \n",
       "3               1       60878   4658      1   \n",
       "4               1       64032   1504      1   \n",
       "...           ...         ...    ...    ...   \n",
       "3870            1       60930   4606      1   \n",
       "3871            1       56441   9095      1   \n",
       "3872            1       53419  12117      1   \n",
       "3873            1       48535  17001      1   \n",
       "3874            1       48598  16938      1   \n",
       "\n",
       "                                             patch_name  \n",
       "0     m_3607612_ne_18_060_20180830_wgs84_tile_2816-6...  \n",
       "1     m_3607612_ne_18_060_20180830_wgs84_tile_6144-1...  \n",
       "2     m_3607612_ne_18_060_20180830_wgs84_tile_6912-5...  \n",
       "3     m_3607501_sw_18_060_20180827_wgs84_tile_256-11...  \n",
       "4     m_3607501_sw_18_060_20180827_wgs84_tile_768-11...  \n",
       "...                                                 ...  \n",
       "3870  m_3807764_nw_18_060_20180827_wgs84_tile_10240-...  \n",
       "3871  m_3807764_nw_18_060_20180827_wgs84_tile_11008-...  \n",
       "3872  m_3807764_nw_18_060_20180827_wgs84_tile_11264-...  \n",
       "3873  m_3807764_nw_18_060_20180827_wgs84_tile_11520-...  \n",
       "3874  m_3807764_nw_18_060_20180827_wgs84_tile_11520-...  \n",
       "\n",
       "[3875 rows x 8 columns]"
      ]
     },
     "execution_count": 17,
=======
      "text/plain": [
       "[0.8345623386613673, 0.16543766133863266]"
      ]
     },
     "execution_count": 121,
>>>>>>> a00eda755a52df37f51b0ab56be0654bdd1c7e33
     "metadata": {},
     "output_type": "execute_result"
    }
   ],
   "source": [
<<<<<<< HEAD
    "df"
=======
    "weights"
>>>>>>> a00eda755a52df37f51b0ab56be0654bdd1c7e33
   ]
  },
  {
   "cell_type": "code",
<<<<<<< HEAD
   "execution_count": 18,
   "id": "9f22af92",
   "metadata": {},
   "outputs": [],
   "source": [
    "df = df.iloc[:,[-1,0,1,2,3,4,5,6]]"
   ]
  },
  {
   "cell_type": "code",
   "execution_count": 19,
   "id": "dfb1a2ea",
   "metadata": {},
   "outputs": [
    {
     "data": {
      "text/html": [
       "<div>\n",
       "<style scoped>\n",
       "    .dataframe tbody tr th:only-of-type {\n",
       "        vertical-align: middle;\n",
       "    }\n",
       "\n",
       "    .dataframe tbody tr th {\n",
       "        vertical-align: top;\n",
       "    }\n",
       "\n",
       "    .dataframe thead th {\n",
       "        text-align: right;\n",
       "    }\n",
       "</style>\n",
       "<table border=\"1\" class=\"dataframe\">\n",
       "  <thead>\n",
       "    <tr style=\"text-align: right;\">\n",
       "      <th></th>\n",
       "      <th>patch_name</th>\n",
       "      <th>patch_path</th>\n",
       "      <th>label_path</th>\n",
       "      <th>filter_size</th>\n",
       "      <th>filter_zero</th>\n",
       "      <th>none_marsh</th>\n",
       "      <th>marsh</th>\n",
       "      <th>valid</th>\n",
       "    </tr>\n",
       "  </thead>\n",
       "  <tbody>\n",
       "    <tr>\n",
       "      <th>0</th>\n",
       "      <td>m_3607612_ne_18_060_20180830_wgs84_tile_2816-6...</td>\n",
       "      <td>/rapids/notebooks/sciclone/geograd/Miranda/git...</td>\n",
       "      <td>/rapids/notebooks/sciclone/geograd/Miranda/git...</td>\n",
       "      <td>1</td>\n",
       "      <td>1</td>\n",
       "      <td>65536</td>\n",
       "      <td>0</td>\n",
       "      <td>0</td>\n",
       "    </tr>\n",
       "    <tr>\n",
       "      <th>1</th>\n",
       "      <td>m_3607612_ne_18_060_20180830_wgs84_tile_6144-1...</td>\n",
       "      <td>/rapids/notebooks/sciclone/geograd/Miranda/git...</td>\n",
       "      <td>/rapids/notebooks/sciclone/geograd/Miranda/git...</td>\n",
       "      <td>1</td>\n",
       "      <td>1</td>\n",
       "      <td>43651</td>\n",
       "      <td>21885</td>\n",
       "      <td>1</td>\n",
       "    </tr>\n",
       "    <tr>\n",
       "      <th>2</th>\n",
       "      <td>m_3607612_ne_18_060_20180830_wgs84_tile_6912-5...</td>\n",
       "      <td>/rapids/notebooks/sciclone/geograd/Miranda/git...</td>\n",
       "      <td>/rapids/notebooks/sciclone/geograd/Miranda/git...</td>\n",
       "      <td>1</td>\n",
       "      <td>1</td>\n",
       "      <td>57891</td>\n",
       "      <td>7645</td>\n",
       "      <td>1</td>\n",
       "    </tr>\n",
       "    <tr>\n",
       "      <th>3</th>\n",
       "      <td>m_3607501_sw_18_060_20180827_wgs84_tile_256-11...</td>\n",
       "      <td>/rapids/notebooks/sciclone/geograd/Miranda/git...</td>\n",
       "      <td>/rapids/notebooks/sciclone/geograd/Miranda/git...</td>\n",
       "      <td>1</td>\n",
       "      <td>1</td>\n",
       "      <td>60878</td>\n",
       "      <td>4658</td>\n",
       "      <td>1</td>\n",
       "    </tr>\n",
       "    <tr>\n",
       "      <th>4</th>\n",
       "      <td>m_3607501_sw_18_060_20180827_wgs84_tile_768-11...</td>\n",
       "      <td>/rapids/notebooks/sciclone/geograd/Miranda/git...</td>\n",
       "      <td>/rapids/notebooks/sciclone/geograd/Miranda/git...</td>\n",
       "      <td>1</td>\n",
       "      <td>1</td>\n",
       "      <td>64032</td>\n",
       "      <td>1504</td>\n",
       "      <td>1</td>\n",
       "    </tr>\n",
       "    <tr>\n",
       "      <th>...</th>\n",
       "      <td>...</td>\n",
       "      <td>...</td>\n",
       "      <td>...</td>\n",
       "      <td>...</td>\n",
       "      <td>...</td>\n",
       "      <td>...</td>\n",
       "      <td>...</td>\n",
       "      <td>...</td>\n",
       "    </tr>\n",
       "    <tr>\n",
       "      <th>3870</th>\n",
       "      <td>m_3807764_nw_18_060_20180827_wgs84_tile_10240-...</td>\n",
       "      <td>/rapids/notebooks/sciclone/geograd/Miranda/git...</td>\n",
       "      <td>/rapids/notebooks/sciclone/geograd/Miranda/git...</td>\n",
       "      <td>1</td>\n",
       "      <td>1</td>\n",
       "      <td>60930</td>\n",
       "      <td>4606</td>\n",
       "      <td>1</td>\n",
       "    </tr>\n",
       "    <tr>\n",
       "      <th>3871</th>\n",
       "      <td>m_3807764_nw_18_060_20180827_wgs84_tile_11008-...</td>\n",
       "      <td>/rapids/notebooks/sciclone/geograd/Miranda/git...</td>\n",
       "      <td>/rapids/notebooks/sciclone/geograd/Miranda/git...</td>\n",
       "      <td>1</td>\n",
       "      <td>1</td>\n",
       "      <td>56441</td>\n",
       "      <td>9095</td>\n",
       "      <td>1</td>\n",
       "    </tr>\n",
       "    <tr>\n",
       "      <th>3872</th>\n",
       "      <td>m_3807764_nw_18_060_20180827_wgs84_tile_11264-...</td>\n",
       "      <td>/rapids/notebooks/sciclone/geograd/Miranda/git...</td>\n",
       "      <td>/rapids/notebooks/sciclone/geograd/Miranda/git...</td>\n",
       "      <td>1</td>\n",
       "      <td>1</td>\n",
       "      <td>53419</td>\n",
       "      <td>12117</td>\n",
       "      <td>1</td>\n",
       "    </tr>\n",
       "    <tr>\n",
       "      <th>3873</th>\n",
       "      <td>m_3807764_nw_18_060_20180827_wgs84_tile_11520-...</td>\n",
       "      <td>/rapids/notebooks/sciclone/geograd/Miranda/git...</td>\n",
       "      <td>/rapids/notebooks/sciclone/geograd/Miranda/git...</td>\n",
       "      <td>1</td>\n",
       "      <td>1</td>\n",
       "      <td>48535</td>\n",
       "      <td>17001</td>\n",
       "      <td>1</td>\n",
       "    </tr>\n",
       "    <tr>\n",
       "      <th>3874</th>\n",
       "      <td>m_3807764_nw_18_060_20180827_wgs84_tile_11520-...</td>\n",
       "      <td>/rapids/notebooks/sciclone/geograd/Miranda/git...</td>\n",
       "      <td>/rapids/notebooks/sciclone/geograd/Miranda/git...</td>\n",
       "      <td>1</td>\n",
       "      <td>1</td>\n",
       "      <td>48598</td>\n",
       "      <td>16938</td>\n",
       "      <td>1</td>\n",
       "    </tr>\n",
       "  </tbody>\n",
       "</table>\n",
       "<p>3875 rows × 8 columns</p>\n",
       "</div>"
      ],
      "text/plain": [
       "                                             patch_name  \\\n",
       "0     m_3607612_ne_18_060_20180830_wgs84_tile_2816-6...   \n",
       "1     m_3607612_ne_18_060_20180830_wgs84_tile_6144-1...   \n",
       "2     m_3607612_ne_18_060_20180830_wgs84_tile_6912-5...   \n",
       "3     m_3607501_sw_18_060_20180827_wgs84_tile_256-11...   \n",
       "4     m_3607501_sw_18_060_20180827_wgs84_tile_768-11...   \n",
       "...                                                 ...   \n",
       "3870  m_3807764_nw_18_060_20180827_wgs84_tile_10240-...   \n",
       "3871  m_3807764_nw_18_060_20180827_wgs84_tile_11008-...   \n",
       "3872  m_3807764_nw_18_060_20180827_wgs84_tile_11264-...   \n",
       "3873  m_3807764_nw_18_060_20180827_wgs84_tile_11520-...   \n",
       "3874  m_3807764_nw_18_060_20180827_wgs84_tile_11520-...   \n",
       "\n",
       "                                             patch_path  \\\n",
       "0     /rapids/notebooks/sciclone/geograd/Miranda/git...   \n",
       "1     /rapids/notebooks/sciclone/geograd/Miranda/git...   \n",
       "2     /rapids/notebooks/sciclone/geograd/Miranda/git...   \n",
       "3     /rapids/notebooks/sciclone/geograd/Miranda/git...   \n",
       "4     /rapids/notebooks/sciclone/geograd/Miranda/git...   \n",
       "...                                                 ...   \n",
       "3870  /rapids/notebooks/sciclone/geograd/Miranda/git...   \n",
       "3871  /rapids/notebooks/sciclone/geograd/Miranda/git...   \n",
       "3872  /rapids/notebooks/sciclone/geograd/Miranda/git...   \n",
       "3873  /rapids/notebooks/sciclone/geograd/Miranda/git...   \n",
       "3874  /rapids/notebooks/sciclone/geograd/Miranda/git...   \n",
       "\n",
       "                                             label_path  filter_size  \\\n",
       "0     /rapids/notebooks/sciclone/geograd/Miranda/git...            1   \n",
       "1     /rapids/notebooks/sciclone/geograd/Miranda/git...            1   \n",
       "2     /rapids/notebooks/sciclone/geograd/Miranda/git...            1   \n",
       "3     /rapids/notebooks/sciclone/geograd/Miranda/git...            1   \n",
       "4     /rapids/notebooks/sciclone/geograd/Miranda/git...            1   \n",
       "...                                                 ...          ...   \n",
       "3870  /rapids/notebooks/sciclone/geograd/Miranda/git...            1   \n",
       "3871  /rapids/notebooks/sciclone/geograd/Miranda/git...            1   \n",
       "3872  /rapids/notebooks/sciclone/geograd/Miranda/git...            1   \n",
       "3873  /rapids/notebooks/sciclone/geograd/Miranda/git...            1   \n",
       "3874  /rapids/notebooks/sciclone/geograd/Miranda/git...            1   \n",
       "\n",
       "      filter_zero  none_marsh  marsh  valid  \n",
       "0               1       65536      0      0  \n",
       "1               1       43651  21885      1  \n",
       "2               1       57891   7645      1  \n",
       "3               1       60878   4658      1  \n",
       "4               1       64032   1504      1  \n",
       "...           ...         ...    ...    ...  \n",
       "3870            1       60930   4606      1  \n",
       "3871            1       56441   9095      1  \n",
       "3872            1       53419  12117      1  \n",
       "3873            1       48535  17001      1  \n",
       "3874            1       48598  16938      1  \n",
       "\n",
       "[3875 rows x 8 columns]"
      ]
     },
     "execution_count": 19,
     "metadata": {},
     "output_type": "execute_result"
    }
   ],
   "source": [
    "df\n",
    "# df.to_csv(out_file, encoding='utf-8', index=False)"
   ]
  },
  {
   "cell_type": "code",
   "execution_count": null,
   "id": "bae13938",
   "metadata": {},
   "outputs": [],
   "source": []
  },
  {
   "cell_type": "code",
   "execution_count": null,
   "id": "530054d1",
   "metadata": {},
   "outputs": [],
   "source": []
  },
  {
   "cell_type": "code",
   "execution_count": 20,
   "id": "cadecfad",
   "metadata": {},
   "outputs": [],
   "source": [
    "# Working on sharp data"
   ]
  },
  {
   "cell_type": "code",
   "execution_count": 53,
   "id": "dc600ce5",
   "metadata": {},
   "outputs": [],
   "source": [
    "sharp_label_file = Path(os.path.join(up(path_cur), 'data/NAIP/NAIP_data_highlow_50000.csv'))\n",
    "sharp_out_file = Path(os.path.join(up(path_cur), 'data/NAIP/NAIP_data_highlow_50000_valid.csv'))\n",
    "\n",
    "sharp_df = pd.read_csv(sharp_label_file)"
   ]
  },
  {
   "cell_type": "code",
   "execution_count": 58,
   "id": "f1cdcf2d",
   "metadata": {},
   "outputs": [],
   "source": [
    "sharp_df['filter_size'] = sharp_df['patch_path'].apply(lambda x: filter_image_size(x, 512))\n",
    "sharp_df['filter_zero'] = sharp_df['patch_path'].apply(lambda x: filter_image_zero(x))"
   ]
  },
  {
   "cell_type": "code",
   "execution_count": 23,
   "id": "0eebe50d",
   "metadata": {},
   "outputs": [],
   "source": [
    "# df['valid'] = df.apply(lambda x: get_valid(x), axis=1)\n",
    "valids = []\n",
    "\n",
    "for index, row in sharp_df.iterrows():\n",
    "    if row['filter_size']==1 and row['filter_zero']==1 and (row['class_0']>0 or row['class_1']>0):\n",
    "        valids.append(1)\n",
    "    else:\n",
    "        valids.append(0)\n",
    "\n",
    "sharp_df['valid'] = valids"
   ]
  },
  {
   "cell_type": "code",
   "execution_count": 143,
   "id": "21f29742",
   "metadata": {},
   "outputs": [],
   "source": [
    "# sharp_df.to_csv(sharp_out_file, encoding='utf-8', index=False)"
   ]
  },
  {
   "cell_type": "code",
   "execution_count": 24,
   "id": "ffe4150c",
   "metadata": {},
   "outputs": [],
   "source": [
    "high_count = sharp_df['class_0'].sum() # high count\n",
    "low_count = sharp_df['class_1'].sum() # low count"
   ]
  },
  {
   "cell_type": "code",
   "execution_count": 25,
   "id": "5d4fbf27",
   "metadata": {},
   "outputs": [],
   "source": [
    "weights_sharp = [high_count / (high_count + low_count), low_count / (high_count + low_count)]"
   ]
  },
  {
   "cell_type": "code",
   "execution_count": 26,
   "id": "74a0101c",
   "metadata": {},
   "outputs": [
    {
     "data": {
      "text/plain": [
       "[0.02515424979261073, 0.9748457502073893]"
      ]
     },
     "execution_count": 26,
     "metadata": {},
     "output_type": "execute_result"
    }
   ],
   "source": [
    "weights_sharp"
   ]
  },
  {
   "cell_type": "code",
   "execution_count": 27,
   "id": "aa2d5fa0",
   "metadata": {},
   "outputs": [],
   "source": [
    "sharp_df['class_sum'] = sharp_df.apply(lambda x: get_sum(x), axis=1)"
   ]
  },
  {
   "cell_type": "code",
   "execution_count": 28,
   "id": "08fa9647",
   "metadata": {},
   "outputs": [],
   "source": [
    "count_sum = sharp_df['class_sum'].sum()"
   ]
  },
  {
   "cell_type": "code",
   "execution_count": 29,
   "id": "8e7ec5f1",
   "metadata": {},
   "outputs": [],
   "source": [
    "weights = [(count_sum - high_count - low_count)/count_sum, high_count/count_sum, low_count/count_sum]"
   ]
  },
  {
   "cell_type": "code",
   "execution_count": 30,
   "id": "51ee8ae2",
   "metadata": {},
   "outputs": [
    {
     "data": {
      "text/plain": [
       "[0.744150945415795, 0.0064356910282143895, 0.24941336355599059]"
      ]
     },
     "execution_count": 30,
     "metadata": {},
     "output_type": "execute_result"
    }
   ],
   "source": [
    "weights"
   ]
  },
  {
   "cell_type": "code",
   "execution_count": null,
   "id": "f6d302be",
   "metadata": {},
   "outputs": [],
   "source": []
  },
  {
   "cell_type": "code",
   "execution_count": null,
   "id": "bee82a4a",
   "metadata": {},
   "outputs": [],
   "source": []
  },
  {
   "cell_type": "code",
   "execution_count": null,
   "id": "d1c152c2",
   "metadata": {},
   "outputs": [],
   "source": []
  },
  {
   "cell_type": "code",
   "execution_count": null,
   "id": "b5dc69f7",
   "metadata": {},
   "outputs": [],
   "source": []
  },
  {
   "cell_type": "code",
   "execution_count": 31,
   "id": "79b77016",
   "metadata": {},
   "outputs": [],
   "source": [
    "# Prediction Images\n",
    "# get all cropped NAIP image directory\n",
    "\n",
    "all_NAIP_2018_dir = Path(os.path.join(up(up(up(path_cur))), 'VIMS/NAIP/VA_NAIP_2018_8977/256_images_lesstrain/temp_patches'))\n",
    "predict_NAIP_dir = Path(os.path.join(up(path_cur), 'data/NAIP/all_NAIP_2018.csv'))"
   ]
  },
  {
   "cell_type": "code",
   "execution_count": 32,
   "id": "4b90169d",
   "metadata": {},
   "outputs": [],
   "source": [
    "all_files = list(all_NAIP_2018_dir.glob('m_*/*.tif'))"
   ]
  },
  {
   "cell_type": "code",
   "execution_count": 33,
   "id": "7a69a18e",
   "metadata": {},
   "outputs": [],
   "source": [
    "NAIP_df = pd.DataFrame(all_files, columns =['file_path'])"
   ]
  },
  {
   "cell_type": "code",
   "execution_count": 157,
   "id": "44fac0cb",
   "metadata": {},
   "outputs": [],
   "source": [
    "def get_file_name(f_path):\n",
    "    \n",
    "    return os.path.basename(f_path)\n",
    "\n",
    "\n",
    "def output_valid(img):\n",
    "    \n",
    "    if os.path.isfile(img):\n",
    "        return 1\n",
    "    else:\n",
    "        return 0"
   ]
  },
  {
   "cell_type": "code",
   "execution_count": 35,
   "id": "4baecb2e",
   "metadata": {},
   "outputs": [],
   "source": [
    "NAIP_df['file_name'] = NAIP_df['file_path'].apply(lambda x: get_file_name(x))"
   ]
  },
  {
   "cell_type": "code",
   "execution_count": 67,
   "id": "dae20908",
   "metadata": {},
   "outputs": [],
   "source": [
    "NAIP_df['filter_size'] = NAIP_df['file_path'].apply(lambda x: filter_image_size(x, 256))\n",
    "NAIP_df['filter_zero'] = NAIP_df['file_path'].apply(lambda x: filter_image_zero(x))"
   ]
  },
  {
   "cell_type": "code",
   "execution_count": 72,
   "id": "9d1c3f69",
   "metadata": {},
   "outputs": [],
   "source": [
    "# df['valid'] = df.apply(lambda x: get_valid(x), axis=1)\n",
    "valids = []\n",
    "\n",
    "for index, row in NAIP_df.iterrows():\n",
    "    if row['filter_size']==1 and row['filter_zero']==1:\n",
    "        valids.append(1)\n",
    "    else:\n",
    "        valids.append(0)\n",
    "\n",
    "NAIP_df['valid'] = valids\n",
    "NAIP_df['tile_name'] = NAIP_df['file_name'].apply(lambda x: '_'.join(x.split('_')[0:-2]))"
   ]
  },
  {
   "cell_type": "code",
   "execution_count": 159,
   "id": "e72b70c9",
   "metadata": {},
   "outputs": [],
   "source": [
    "NAIP_df['generated'] = NAIP_df['prediction_path'].apply(lambda x: output_valid(x))"
   ]
  },
  {
   "cell_type": "code",
   "execution_count": null,
   "id": "83aa3799",
   "metadata": {},
   "outputs": [],
   "source": []
  },
  {
   "cell_type": "code",
   "execution_count": null,
   "id": "6426d546",
   "metadata": {},
   "outputs": [],
   "source": []
  },
  {
   "cell_type": "code",
   "execution_count": null,
   "id": "34d87243",
   "metadata": {},
   "outputs": [],
   "source": []
  },
  {
   "cell_type": "code",
   "execution_count": null,
   "id": "999994e3",
   "metadata": {},
   "outputs": [],
   "source": []
  },
  {
   "cell_type": "code",
   "execution_count": null,
   "id": "d8212af9",
   "metadata": {},
   "outputs": [],
   "source": []
  },
  {
   "cell_type": "code",
   "execution_count": 75,
   "id": "704d99d4",
   "metadata": {},
   "outputs": [],
   "source": [
    "# NAIP_df.to_csv(predict_NAIP_dir, encoding='utf-8', index=False)"
   ]
  },
  {
   "cell_type": "code",
   "execution_count": 117,
   "id": "f0df7d4f",
   "metadata": {},
   "outputs": [],
   "source": []
  },
  {
   "cell_type": "code",
   "execution_count": 166,
   "id": "7ba204b4",
   "metadata": {},
   "outputs": [],
   "source": [
    "import numpy as np\n",
    "import matplotlib.pyplot as plt\n",
    "import os, glob\n",
    "from osgeo import gdal\n",
    "from rasterio.merge import merge\n",
    "from rasterio.plot import show"
   ]
  },
  {
   "cell_type": "code",
   "execution_count": 173,
   "id": "02474cf6",
   "metadata": {},
   "outputs": [],
   "source": [
    "valid_df = NAIP_df[NAIP_df['generated']==1]\n",
    "grouped = valid_df.groupby('tile_name')\n",
    "\n",
    "for name, group in grouped:\n",
    "    \n",
    "    print('Working on: {}'.format(name))\n",
    "    \n",
    "    patch_list = list(group['prediction_path'])\n",
    "    mosaic_path = os.path.join(up(path_cur), 'output_prediction/mosaic_SegmentationModel_val_loss_unet_resnet34_0.0001_ce_imagenet_NDVI', name+'.tif')\n",
    "    \n",
    "    src_files_to_mosaic = []\n",
    "    # Iterate over raster files and add them to source -list in 'read mode'\n",
    "    for fp in patch_list:\n",
    "        src = rasterio.open(fp)\n",
    "        src_files_to_mosaic.append(src)\n",
    "\n",
    "    # Merge function returns a single mosaic array and the transformation info\n",
    "    mosaic, out_trans = merge(src_files_to_mosaic)\n",
    "\n",
    "    # Copy the metadata\n",
    "    out_meta = src.meta.copy()\n",
    "\n",
    "    # Update the metadata\n",
    "    out_meta.update({\"driver\": \"GTiff\",\n",
    "                    \"height\": mosaic.shape[1],\n",
    "                    \"width\": mosaic.shape[2],\n",
    "                    \"transform\": out_trans\n",
    "                    }\n",
    "                )\n",
    "    \n",
    "    # Write the mosaic raster to disk\n",
    "    with rasterio.open(mosaic_path, \"w\", **out_meta) as dest:\n",
    "        dest.write(mosaic)\n",
    "\n",
    "#     # Plot the result\n",
    "#     show(mosaic, cmap='terrain')\n"
=======
   "execution_count": 108,
   "id": "3bfcf1c4",
   "metadata": {},
   "outputs": [],
   "source": [
    "df = df.rename(columns={\"patch_name\": \"patch_path\", \"label\": \"label_path\"})"
>>>>>>> a00eda755a52df37f51b0ab56be0654bdd1c7e33
   ]
  },
  {
   "cell_type": "code",
<<<<<<< HEAD
   "execution_count": null,
   "id": "6584f2b6",
=======
   "execution_count": 112,
   "id": "2984afb7",
>>>>>>> a00eda755a52df37f51b0ab56be0654bdd1c7e33
   "metadata": {},
   "outputs": [],
   "source": [
    "df['patch_name'] = df['patch_path'].apply(lambda x: get_patch_name(x))"
   ]
  },
  {
   "cell_type": "code",
<<<<<<< HEAD
   "execution_count": null,
   "id": "cde6ca7e",
=======
   "execution_count": 113,
   "id": "52a023f5",
   "metadata": {},
   "outputs": [
    {
     "data": {
      "text/html": [
       "<div>\n",
       "<style scoped>\n",
       "    .dataframe tbody tr th:only-of-type {\n",
       "        vertical-align: middle;\n",
       "    }\n",
       "\n",
       "    .dataframe tbody tr th {\n",
       "        vertical-align: top;\n",
       "    }\n",
       "\n",
       "    .dataframe thead th {\n",
       "        text-align: right;\n",
       "    }\n",
       "</style>\n",
       "<table border=\"1\" class=\"dataframe\">\n",
       "  <thead>\n",
       "    <tr style=\"text-align: right;\">\n",
       "      <th></th>\n",
       "      <th>patch_path</th>\n",
       "      <th>label_path</th>\n",
       "      <th>filter_size</th>\n",
       "      <th>filter_zero</th>\n",
       "      <th>none_marsh</th>\n",
       "      <th>marsh</th>\n",
       "      <th>valid</th>\n",
       "      <th>patch_name</th>\n",
       "    </tr>\n",
       "  </thead>\n",
       "  <tbody>\n",
       "    <tr>\n",
       "      <th>0</th>\n",
       "      <td>/rapids/notebooks/sciclone/geograd/Miranda/git...</td>\n",
       "      <td>/rapids/notebooks/sciclone/geograd/Miranda/git...</td>\n",
       "      <td>1</td>\n",
       "      <td>1</td>\n",
       "      <td>65536</td>\n",
       "      <td>0</td>\n",
       "      <td>0</td>\n",
       "      <td>m_3607612_ne_18_060_20180830_wgs84_tile_2816-6...</td>\n",
       "    </tr>\n",
       "    <tr>\n",
       "      <th>1</th>\n",
       "      <td>/rapids/notebooks/sciclone/geograd/Miranda/git...</td>\n",
       "      <td>/rapids/notebooks/sciclone/geograd/Miranda/git...</td>\n",
       "      <td>1</td>\n",
       "      <td>1</td>\n",
       "      <td>43651</td>\n",
       "      <td>21885</td>\n",
       "      <td>1</td>\n",
       "      <td>m_3607612_ne_18_060_20180830_wgs84_tile_6144-1...</td>\n",
       "    </tr>\n",
       "    <tr>\n",
       "      <th>2</th>\n",
       "      <td>/rapids/notebooks/sciclone/geograd/Miranda/git...</td>\n",
       "      <td>/rapids/notebooks/sciclone/geograd/Miranda/git...</td>\n",
       "      <td>1</td>\n",
       "      <td>1</td>\n",
       "      <td>57891</td>\n",
       "      <td>7645</td>\n",
       "      <td>1</td>\n",
       "      <td>m_3607612_ne_18_060_20180830_wgs84_tile_6912-5...</td>\n",
       "    </tr>\n",
       "    <tr>\n",
       "      <th>3</th>\n",
       "      <td>/rapids/notebooks/sciclone/geograd/Miranda/git...</td>\n",
       "      <td>/rapids/notebooks/sciclone/geograd/Miranda/git...</td>\n",
       "      <td>1</td>\n",
       "      <td>1</td>\n",
       "      <td>60878</td>\n",
       "      <td>4658</td>\n",
       "      <td>1</td>\n",
       "      <td>m_3607501_sw_18_060_20180827_wgs84_tile_256-11...</td>\n",
       "    </tr>\n",
       "    <tr>\n",
       "      <th>4</th>\n",
       "      <td>/rapids/notebooks/sciclone/geograd/Miranda/git...</td>\n",
       "      <td>/rapids/notebooks/sciclone/geograd/Miranda/git...</td>\n",
       "      <td>1</td>\n",
       "      <td>1</td>\n",
       "      <td>64032</td>\n",
       "      <td>1504</td>\n",
       "      <td>1</td>\n",
       "      <td>m_3607501_sw_18_060_20180827_wgs84_tile_768-11...</td>\n",
       "    </tr>\n",
       "    <tr>\n",
       "      <th>...</th>\n",
       "      <td>...</td>\n",
       "      <td>...</td>\n",
       "      <td>...</td>\n",
       "      <td>...</td>\n",
       "      <td>...</td>\n",
       "      <td>...</td>\n",
       "      <td>...</td>\n",
       "      <td>...</td>\n",
       "    </tr>\n",
       "    <tr>\n",
       "      <th>3870</th>\n",
       "      <td>/rapids/notebooks/sciclone/geograd/Miranda/git...</td>\n",
       "      <td>/rapids/notebooks/sciclone/geograd/Miranda/git...</td>\n",
       "      <td>1</td>\n",
       "      <td>1</td>\n",
       "      <td>60930</td>\n",
       "      <td>4606</td>\n",
       "      <td>1</td>\n",
       "      <td>m_3807764_nw_18_060_20180827_wgs84_tile_10240-...</td>\n",
       "    </tr>\n",
       "    <tr>\n",
       "      <th>3871</th>\n",
       "      <td>/rapids/notebooks/sciclone/geograd/Miranda/git...</td>\n",
       "      <td>/rapids/notebooks/sciclone/geograd/Miranda/git...</td>\n",
       "      <td>1</td>\n",
       "      <td>1</td>\n",
       "      <td>56441</td>\n",
       "      <td>9095</td>\n",
       "      <td>1</td>\n",
       "      <td>m_3807764_nw_18_060_20180827_wgs84_tile_11008-...</td>\n",
       "    </tr>\n",
       "    <tr>\n",
       "      <th>3872</th>\n",
       "      <td>/rapids/notebooks/sciclone/geograd/Miranda/git...</td>\n",
       "      <td>/rapids/notebooks/sciclone/geograd/Miranda/git...</td>\n",
       "      <td>1</td>\n",
       "      <td>1</td>\n",
       "      <td>53419</td>\n",
       "      <td>12117</td>\n",
       "      <td>1</td>\n",
       "      <td>m_3807764_nw_18_060_20180827_wgs84_tile_11264-...</td>\n",
       "    </tr>\n",
       "    <tr>\n",
       "      <th>3873</th>\n",
       "      <td>/rapids/notebooks/sciclone/geograd/Miranda/git...</td>\n",
       "      <td>/rapids/notebooks/sciclone/geograd/Miranda/git...</td>\n",
       "      <td>1</td>\n",
       "      <td>1</td>\n",
       "      <td>48535</td>\n",
       "      <td>17001</td>\n",
       "      <td>1</td>\n",
       "      <td>m_3807764_nw_18_060_20180827_wgs84_tile_11520-...</td>\n",
       "    </tr>\n",
       "    <tr>\n",
       "      <th>3874</th>\n",
       "      <td>/rapids/notebooks/sciclone/geograd/Miranda/git...</td>\n",
       "      <td>/rapids/notebooks/sciclone/geograd/Miranda/git...</td>\n",
       "      <td>1</td>\n",
       "      <td>1</td>\n",
       "      <td>48598</td>\n",
       "      <td>16938</td>\n",
       "      <td>1</td>\n",
       "      <td>m_3807764_nw_18_060_20180827_wgs84_tile_11520-...</td>\n",
       "    </tr>\n",
       "  </tbody>\n",
       "</table>\n",
       "<p>3875 rows × 8 columns</p>\n",
       "</div>"
      ],
      "text/plain": [
       "                                             patch_path  \\\n",
       "0     /rapids/notebooks/sciclone/geograd/Miranda/git...   \n",
       "1     /rapids/notebooks/sciclone/geograd/Miranda/git...   \n",
       "2     /rapids/notebooks/sciclone/geograd/Miranda/git...   \n",
       "3     /rapids/notebooks/sciclone/geograd/Miranda/git...   \n",
       "4     /rapids/notebooks/sciclone/geograd/Miranda/git...   \n",
       "...                                                 ...   \n",
       "3870  /rapids/notebooks/sciclone/geograd/Miranda/git...   \n",
       "3871  /rapids/notebooks/sciclone/geograd/Miranda/git...   \n",
       "3872  /rapids/notebooks/sciclone/geograd/Miranda/git...   \n",
       "3873  /rapids/notebooks/sciclone/geograd/Miranda/git...   \n",
       "3874  /rapids/notebooks/sciclone/geograd/Miranda/git...   \n",
       "\n",
       "                                             label_path  filter_size  \\\n",
       "0     /rapids/notebooks/sciclone/geograd/Miranda/git...            1   \n",
       "1     /rapids/notebooks/sciclone/geograd/Miranda/git...            1   \n",
       "2     /rapids/notebooks/sciclone/geograd/Miranda/git...            1   \n",
       "3     /rapids/notebooks/sciclone/geograd/Miranda/git...            1   \n",
       "4     /rapids/notebooks/sciclone/geograd/Miranda/git...            1   \n",
       "...                                                 ...          ...   \n",
       "3870  /rapids/notebooks/sciclone/geograd/Miranda/git...            1   \n",
       "3871  /rapids/notebooks/sciclone/geograd/Miranda/git...            1   \n",
       "3872  /rapids/notebooks/sciclone/geograd/Miranda/git...            1   \n",
       "3873  /rapids/notebooks/sciclone/geograd/Miranda/git...            1   \n",
       "3874  /rapids/notebooks/sciclone/geograd/Miranda/git...            1   \n",
       "\n",
       "      filter_zero  none_marsh  marsh  valid  \\\n",
       "0               1       65536      0      0   \n",
       "1               1       43651  21885      1   \n",
       "2               1       57891   7645      1   \n",
       "3               1       60878   4658      1   \n",
       "4               1       64032   1504      1   \n",
       "...           ...         ...    ...    ...   \n",
       "3870            1       60930   4606      1   \n",
       "3871            1       56441   9095      1   \n",
       "3872            1       53419  12117      1   \n",
       "3873            1       48535  17001      1   \n",
       "3874            1       48598  16938      1   \n",
       "\n",
       "                                             patch_name  \n",
       "0     m_3607612_ne_18_060_20180830_wgs84_tile_2816-6...  \n",
       "1     m_3607612_ne_18_060_20180830_wgs84_tile_6144-1...  \n",
       "2     m_3607612_ne_18_060_20180830_wgs84_tile_6912-5...  \n",
       "3     m_3607501_sw_18_060_20180827_wgs84_tile_256-11...  \n",
       "4     m_3607501_sw_18_060_20180827_wgs84_tile_768-11...  \n",
       "...                                                 ...  \n",
       "3870  m_3807764_nw_18_060_20180827_wgs84_tile_10240-...  \n",
       "3871  m_3807764_nw_18_060_20180827_wgs84_tile_11008-...  \n",
       "3872  m_3807764_nw_18_060_20180827_wgs84_tile_11264-...  \n",
       "3873  m_3807764_nw_18_060_20180827_wgs84_tile_11520-...  \n",
       "3874  m_3807764_nw_18_060_20180827_wgs84_tile_11520-...  \n",
       "\n",
       "[3875 rows x 8 columns]"
      ]
     },
     "execution_count": 113,
     "metadata": {},
     "output_type": "execute_result"
    }
   ],
   "source": [
    "df"
   ]
  },
  {
   "cell_type": "code",
   "execution_count": 117,
   "id": "49b5c48c",
>>>>>>> a00eda755a52df37f51b0ab56be0654bdd1c7e33
   "metadata": {},
   "outputs": [],
   "source": [
    "df = df.iloc[:,[-1,0,1,2,3,4,5,6]]"
   ]
  },
  {
   "cell_type": "code",
   "execution_count": 119,
   "id": "69d72b8d",
   "metadata": {},
   "outputs": [],
   "source": [
    "df.to_csv(out_file, encoding='utf-8', index=False)"
   ]
  },
  {
   "cell_type": "code",
   "execution_count": null,
<<<<<<< HEAD
   "id": "df100428",
=======
   "id": "db163672",
>>>>>>> a00eda755a52df37f51b0ab56be0654bdd1c7e33
   "metadata": {},
   "outputs": [],
   "source": []
  },
  {
   "cell_type": "code",
   "execution_count": null,
<<<<<<< HEAD
   "id": "8e1fb713",
=======
   "id": "28188136",
>>>>>>> a00eda755a52df37f51b0ab56be0654bdd1c7e33
   "metadata": {},
   "outputs": [],
   "source": []
  },
  {
   "cell_type": "code",
   "execution_count": null,
<<<<<<< HEAD
   "id": "80648eff",
=======
   "id": "277800b0",
>>>>>>> a00eda755a52df37f51b0ab56be0654bdd1c7e33
   "metadata": {},
   "outputs": [],
   "source": []
  },
  {
   "cell_type": "code",
   "execution_count": null,
<<<<<<< HEAD
   "id": "54101c55",
=======
   "id": "91b988e6",
>>>>>>> a00eda755a52df37f51b0ab56be0654bdd1c7e33
   "metadata": {},
   "outputs": [],
   "source": []
  },
  {
   "cell_type": "code",
   "execution_count": null,
<<<<<<< HEAD
   "id": "48dffae5",
=======
   "id": "da5712a8",
>>>>>>> a00eda755a52df37f51b0ab56be0654bdd1c7e33
   "metadata": {},
   "outputs": [],
   "source": []
  }
 ],
 "metadata": {
  "kernelspec": {
   "display_name": "vims",
   "language": "python",
   "name": "vims"
  },
  "language_info": {
   "codemirror_mode": {
    "name": "ipython",
    "version": 3
   },
   "file_extension": ".py",
   "mimetype": "text/x-python",
   "name": "python",
   "nbconvert_exporter": "python",
   "pygments_lexer": "ipython3",
   "version": "3.7.10"
  }
 },
 "nbformat": 4,
 "nbformat_minor": 5
}
