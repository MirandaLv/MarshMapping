{
 "cells": [
  {
   "cell_type": "code",
   "execution_count": 1,
   "id": "9288a550",
   "metadata": {},
   "outputs": [],
   "source": [
    "# This script is used to pre-process the cropped boarder patches\n",
    "import os\n",
    "import numpy as np\n",
    "import pandas as pd\n",
    "import rasterio\n",
    "import sys\n",
    "import geopandas as gpd\n",
    "from pathlib import Path\n",
    "from tqdm import tqdm\n",
    "from rasterio.mask import mask, raster_geometry_mask\n",
    "from shapely.geometry import box\n",
    "from rasterio.enums import Resampling\n",
    "from itertools import product\n",
    "from rasterio import windows\n",
    "import rioxarray\n",
    "import shapely\n",
    "import shutil\n",
    "from osgeo import gdal\n",
    "\n",
    "path_cur = os.path.abspath('.')\n",
    "sys.path.append(path_cur)\n",
    "\n",
    "from os.path import dirname as up"
   ]
  },
  {
   "cell_type": "code",
   "execution_count": 2,
   "id": "9d1e22a3",
   "metadata": {},
   "outputs": [],
   "source": [
    "label_file = Path(os.path.join(up(up(path_cur)), 'MarshMapping_local/data/NAIP_data_processing/labels_tmi_modified.csv'))\n",
    "out_file = Path(os.path.join(up(up(path_cur)), 'MarshMapping_local/data/NAIP_data_processing/labels_tmi_modified_valid.csv'))"
   ]
  },
  {
   "cell_type": "code",
   "execution_count": 3,
   "id": "d954b617",
   "metadata": {},
   "outputs": [],
   "source": [
    "df = pd.read_csv(label_file)"
   ]
  },
  {
   "cell_type": "code",
   "execution_count": 4,
   "id": "12249ae6",
   "metadata": {},
   "outputs": [
    {
     "data": {
      "text/plain": [
       "(4, 256, 256)"
      ]
     },
     "execution_count": 4,
     "metadata": {},
     "output_type": "execute_result"
    }
   ],
   "source": [
    "testfile = df['patch_name'][0]\n",
    "rasterio.open(testfile).read().shape"
   ]
  },
  {
   "cell_type": "code",
   "execution_count": 5,
   "id": "35823581",
   "metadata": {},
   "outputs": [],
   "source": [
    "def filter_image_size(img):\n",
    "\n",
    "    image = rasterio.open(img).read()\n",
    "    w,h = image.shape[1:]\n",
    "    \n",
    "    if w!=256 or h!=256:\n",
    "        return 0\n",
    "    else:\n",
    "        return 1\n",
    "\n",
    "def filter_image_zero(img):\n",
    "    \n",
    "    image = rasterio.open(img).read()\n",
    "    \n",
    "    zero_count = len(np.where(image==0)[0])\n",
    "    \n",
    "    if zero_count > 0:\n",
    "        return 0\n",
    "    else:\n",
    "        return 1\n"
   ]
  },
  {
   "cell_type": "code",
   "execution_count": 7,
   "id": "b5b4913e",
   "metadata": {},
   "outputs": [],
   "source": [
    "df['valid'] = df['patch_name'].apply(lambda x: filter_image_size(x))\n",
    "df['filter_zero'] = df['patch_name'].apply(lambda x: filter_image_zero(x))"
   ]
  },
  {
   "cell_type": "code",
   "execution_count": 11,
   "id": "02db3282",
   "metadata": {},
   "outputs": [
    {
     "data": {
      "text/html": [
       "<div>\n",
       "<style scoped>\n",
       "    .dataframe tbody tr th:only-of-type {\n",
       "        vertical-align: middle;\n",
       "    }\n",
       "\n",
       "    .dataframe tbody tr th {\n",
       "        vertical-align: top;\n",
       "    }\n",
       "\n",
       "    .dataframe thead th {\n",
       "        text-align: right;\n",
       "    }\n",
       "</style>\n",
       "<table border=\"1\" class=\"dataframe\">\n",
       "  <thead>\n",
       "    <tr style=\"text-align: right;\">\n",
       "      <th></th>\n",
       "      <th>patch_name</th>\n",
       "      <th>label</th>\n",
       "      <th>valid</th>\n",
       "      <th>filter_zero</th>\n",
       "    </tr>\n",
       "  </thead>\n",
       "  <tbody>\n",
       "    <tr>\n",
       "      <th>0</th>\n",
       "      <td>/rapids/notebooks/sciclone/geograd/Miranda/git...</td>\n",
       "      <td>/rapids/notebooks/sciclone/geograd/Miranda/git...</td>\n",
       "      <td>1</td>\n",
       "      <td>1</td>\n",
       "    </tr>\n",
       "    <tr>\n",
       "      <th>1</th>\n",
       "      <td>/rapids/notebooks/sciclone/geograd/Miranda/git...</td>\n",
       "      <td>/rapids/notebooks/sciclone/geograd/Miranda/git...</td>\n",
       "      <td>1</td>\n",
       "      <td>1</td>\n",
       "    </tr>\n",
       "    <tr>\n",
       "      <th>2</th>\n",
       "      <td>/rapids/notebooks/sciclone/geograd/Miranda/git...</td>\n",
       "      <td>/rapids/notebooks/sciclone/geograd/Miranda/git...</td>\n",
       "      <td>1</td>\n",
       "      <td>1</td>\n",
       "    </tr>\n",
       "    <tr>\n",
       "      <th>3</th>\n",
       "      <td>/rapids/notebooks/sciclone/geograd/Miranda/git...</td>\n",
       "      <td>/rapids/notebooks/sciclone/geograd/Miranda/git...</td>\n",
       "      <td>1</td>\n",
       "      <td>1</td>\n",
       "    </tr>\n",
       "    <tr>\n",
       "      <th>4</th>\n",
       "      <td>/rapids/notebooks/sciclone/geograd/Miranda/git...</td>\n",
       "      <td>/rapids/notebooks/sciclone/geograd/Miranda/git...</td>\n",
       "      <td>1</td>\n",
       "      <td>1</td>\n",
       "    </tr>\n",
       "    <tr>\n",
       "      <th>...</th>\n",
       "      <td>...</td>\n",
       "      <td>...</td>\n",
       "      <td>...</td>\n",
       "      <td>...</td>\n",
       "    </tr>\n",
       "    <tr>\n",
       "      <th>3870</th>\n",
       "      <td>/rapids/notebooks/sciclone/geograd/Miranda/git...</td>\n",
       "      <td>/rapids/notebooks/sciclone/geograd/Miranda/git...</td>\n",
       "      <td>1</td>\n",
       "      <td>1</td>\n",
       "    </tr>\n",
       "    <tr>\n",
       "      <th>3871</th>\n",
       "      <td>/rapids/notebooks/sciclone/geograd/Miranda/git...</td>\n",
       "      <td>/rapids/notebooks/sciclone/geograd/Miranda/git...</td>\n",
       "      <td>1</td>\n",
       "      <td>1</td>\n",
       "    </tr>\n",
       "    <tr>\n",
       "      <th>3872</th>\n",
       "      <td>/rapids/notebooks/sciclone/geograd/Miranda/git...</td>\n",
       "      <td>/rapids/notebooks/sciclone/geograd/Miranda/git...</td>\n",
       "      <td>1</td>\n",
       "      <td>1</td>\n",
       "    </tr>\n",
       "    <tr>\n",
       "      <th>3873</th>\n",
       "      <td>/rapids/notebooks/sciclone/geograd/Miranda/git...</td>\n",
       "      <td>/rapids/notebooks/sciclone/geograd/Miranda/git...</td>\n",
       "      <td>1</td>\n",
       "      <td>1</td>\n",
       "    </tr>\n",
       "    <tr>\n",
       "      <th>3874</th>\n",
       "      <td>/rapids/notebooks/sciclone/geograd/Miranda/git...</td>\n",
       "      <td>/rapids/notebooks/sciclone/geograd/Miranda/git...</td>\n",
       "      <td>1</td>\n",
       "      <td>1</td>\n",
       "    </tr>\n",
       "  </tbody>\n",
       "</table>\n",
       "<p>3608 rows × 4 columns</p>\n",
       "</div>"
      ],
      "text/plain": [
       "                                             patch_name  \\\n",
       "0     /rapids/notebooks/sciclone/geograd/Miranda/git...   \n",
       "1     /rapids/notebooks/sciclone/geograd/Miranda/git...   \n",
       "2     /rapids/notebooks/sciclone/geograd/Miranda/git...   \n",
       "3     /rapids/notebooks/sciclone/geograd/Miranda/git...   \n",
       "4     /rapids/notebooks/sciclone/geograd/Miranda/git...   \n",
       "...                                                 ...   \n",
       "3870  /rapids/notebooks/sciclone/geograd/Miranda/git...   \n",
       "3871  /rapids/notebooks/sciclone/geograd/Miranda/git...   \n",
       "3872  /rapids/notebooks/sciclone/geograd/Miranda/git...   \n",
       "3873  /rapids/notebooks/sciclone/geograd/Miranda/git...   \n",
       "3874  /rapids/notebooks/sciclone/geograd/Miranda/git...   \n",
       "\n",
       "                                                  label  valid  filter_zero  \n",
       "0     /rapids/notebooks/sciclone/geograd/Miranda/git...      1            1  \n",
       "1     /rapids/notebooks/sciclone/geograd/Miranda/git...      1            1  \n",
       "2     /rapids/notebooks/sciclone/geograd/Miranda/git...      1            1  \n",
       "3     /rapids/notebooks/sciclone/geograd/Miranda/git...      1            1  \n",
       "4     /rapids/notebooks/sciclone/geograd/Miranda/git...      1            1  \n",
       "...                                                 ...    ...          ...  \n",
       "3870  /rapids/notebooks/sciclone/geograd/Miranda/git...      1            1  \n",
       "3871  /rapids/notebooks/sciclone/geograd/Miranda/git...      1            1  \n",
       "3872  /rapids/notebooks/sciclone/geograd/Miranda/git...      1            1  \n",
       "3873  /rapids/notebooks/sciclone/geograd/Miranda/git...      1            1  \n",
       "3874  /rapids/notebooks/sciclone/geograd/Miranda/git...      1            1  \n",
       "\n",
       "[3608 rows x 4 columns]"
      ]
     },
     "execution_count": 11,
     "metadata": {},
     "output_type": "execute_result"
    }
   ],
   "source": [
    "df[df['filter_zero']==1]"
   ]
  },
  {
   "cell_type": "code",
   "execution_count": 12,
   "id": "8e0b9519",
   "metadata": {},
   "outputs": [],
   "source": [
    "df.to_csv(out_file, index=False)"
   ]
  },
  {
   "cell_type": "code",
   "execution_count": null,
   "id": "85dd4f08",
   "metadata": {},
   "outputs": [],
   "source": [
    "# rasterio.open(df['patch_name'][57])\n",
    "# array_test = rasterio.open(df['patch_name'][2]).read()\n",
    "# np.where(array_test==0)[0]"
   ]
  },
  {
   "cell_type": "code",
   "execution_count": null,
   "id": "835e43db",
   "metadata": {},
   "outputs": [],
   "source": []
  },
  {
   "cell_type": "code",
   "execution_count": null,
   "id": "2c9eb793",
   "metadata": {},
   "outputs": [],
   "source": []
  },
  {
   "cell_type": "code",
   "execution_count": null,
   "id": "7b4a38de",
   "metadata": {},
   "outputs": [],
   "source": []
  },
  {
   "cell_type": "code",
   "execution_count": null,
   "id": "535a7b23",
   "metadata": {},
   "outputs": [],
   "source": []
  },
  {
   "cell_type": "code",
   "execution_count": null,
   "id": "b6912f50",
   "metadata": {},
   "outputs": [],
   "source": []
  },
  {
   "cell_type": "code",
   "execution_count": null,
   "id": "1ed72e9c",
   "metadata": {},
   "outputs": [],
   "source": []
  },
  {
   "cell_type": "code",
   "execution_count": null,
   "id": "685f0e34",
   "metadata": {},
   "outputs": [],
   "source": []
  },
  {
   "cell_type": "code",
   "execution_count": null,
   "id": "aa6ac230",
   "metadata": {},
   "outputs": [],
   "source": []
  },
  {
   "cell_type": "code",
   "execution_count": null,
   "id": "3ab40478",
   "metadata": {},
   "outputs": [],
   "source": []
  },
  {
   "cell_type": "code",
   "execution_count": null,
   "id": "a006f2e5",
   "metadata": {},
   "outputs": [],
   "source": []
  }
 ],
 "metadata": {
  "kernelspec": {
   "display_name": "vims",
   "language": "python",
   "name": "vims"
  },
  "language_info": {
   "codemirror_mode": {
    "name": "ipython",
    "version": 3
   },
   "file_extension": ".py",
   "mimetype": "text/x-python",
   "name": "python",
   "nbconvert_exporter": "python",
   "pygments_lexer": "ipython3",
   "version": "3.7.10"
  }
 },
 "nbformat": 4,
 "nbformat_minor": 5
}
