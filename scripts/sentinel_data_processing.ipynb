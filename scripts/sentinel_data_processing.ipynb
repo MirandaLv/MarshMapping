{
 "cells": [
  {
   "cell_type": "code",
   "execution_count": null,
   "id": "b7f8c989",
   "metadata": {},
   "outputs": [],
   "source": []
  },
  {
   "cell_type": "code",
   "execution_count": 27,
   "id": "59dd0157",
   "metadata": {},
   "outputs": [],
   "source": [
    "import os\n",
    "import numpy as np\n",
    "import pandas as pd\n",
    "import rasterio\n",
    "import sys\n",
    "import geopandas as gpd\n",
    "from pathlib import Path\n",
    "from tqdm import tqdm\n",
    "from rasterio.mask import mask, raster_geometry_mask\n",
    "from shapely.geometry import box\n",
    "from rasterio.enums import Resampling\n",
    "\n",
    "path_cur = os.path.abspath('.')\n",
    "sys.path.append(path_cur)\n",
    "\n",
    "from os.path import dirname as up"
   ]
  },
  {
   "cell_type": "code",
   "execution_count": 28,
   "id": "9a20c646",
   "metadata": {},
   "outputs": [],
   "source": [
    "# Setting working directory and input data directory\n",
    "\n",
    "base_path = Path(os.path.join(up(path_cur), 'data', 'processing_data'))\n",
    "(base_path / 'image_patches_256').mkdir(exist_ok=True, parents=True)\n",
    "\n",
    "IMG_DATA_DIR = os.path.join(up(path_cur), 'data', 'sentinel_shoreline_2017')\n",
    "Label_DATA_DIR = os.path.join(up(path_cur), 'data', 'processing_data', 'marsh_all_500.geojson')"
   ]
  },
  {
   "cell_type": "code",
   "execution_count": null,
   "id": "b0d3714b",
   "metadata": {},
   "outputs": [
    {
     "ename": "KeyboardInterrupt",
     "evalue": "",
     "output_type": "error",
     "traceback": [
      "\u001b[0;31m---------------------------------------------------------------------------\u001b[0m",
      "\u001b[0;31mKeyboardInterrupt\u001b[0m                         Traceback (most recent call last)",
      "\u001b[0;32m<ipython-input-29-48ca20253869>\u001b[0m in \u001b[0;36m<module>\u001b[0;34m\u001b[0m\n\u001b[0;32m----> 1\u001b[0;31m \u001b[0mlabel_df\u001b[0m \u001b[0;34m=\u001b[0m \u001b[0mgpd\u001b[0m\u001b[0;34m.\u001b[0m\u001b[0mread_file\u001b[0m\u001b[0;34m(\u001b[0m\u001b[0mLabel_DATA_DIR\u001b[0m\u001b[0;34m)\u001b[0m\u001b[0;34m\u001b[0m\u001b[0;34m\u001b[0m\u001b[0m\n\u001b[0m",
      "\u001b[0;32m/opt/conda/envs/vims/lib/python3.7/site-packages/geopandas/io/file.py\u001b[0m in \u001b[0;36m_read_file\u001b[0;34m(filename, bbox, mask, rows, **kwargs)\u001b[0m\n\u001b[1;32m    138\u001b[0m \u001b[0;34m\u001b[0m\u001b[0m\n\u001b[1;32m    139\u001b[0m             return GeoDataFrame.from_features(\n\u001b[0;32m--> 140\u001b[0;31m                 \u001b[0mf_filt\u001b[0m\u001b[0;34m,\u001b[0m \u001b[0mcrs\u001b[0m\u001b[0;34m=\u001b[0m\u001b[0mcrs\u001b[0m\u001b[0;34m,\u001b[0m \u001b[0mcolumns\u001b[0m\u001b[0;34m=\u001b[0m\u001b[0mcolumns\u001b[0m \u001b[0;34m+\u001b[0m \u001b[0;34m[\u001b[0m\u001b[0;34m\"geometry\"\u001b[0m\u001b[0;34m]\u001b[0m\u001b[0;34m\u001b[0m\u001b[0;34m\u001b[0m\u001b[0m\n\u001b[0m\u001b[1;32m    141\u001b[0m             )\n\u001b[1;32m    142\u001b[0m \u001b[0;34m\u001b[0m\u001b[0m\n",
      "\u001b[0;32m/opt/conda/envs/vims/lib/python3.7/site-packages/geopandas/geodataframe.py\u001b[0m in \u001b[0;36mfrom_features\u001b[0;34m(cls, features, crs, columns)\u001b[0m\n\u001b[1;32m    420\u001b[0m \u001b[0;34m\u001b[0m\u001b[0m\n\u001b[1;32m    421\u001b[0m         \u001b[0mrows\u001b[0m \u001b[0;34m=\u001b[0m \u001b[0;34m[\u001b[0m\u001b[0;34m]\u001b[0m\u001b[0;34m\u001b[0m\u001b[0;34m\u001b[0m\u001b[0m\n\u001b[0;32m--> 422\u001b[0;31m         \u001b[0;32mfor\u001b[0m \u001b[0mfeature\u001b[0m \u001b[0;32min\u001b[0m \u001b[0mfeatures_lst\u001b[0m\u001b[0;34m:\u001b[0m\u001b[0;34m\u001b[0m\u001b[0;34m\u001b[0m\u001b[0m\n\u001b[0m\u001b[1;32m    423\u001b[0m             \u001b[0;31m# load geometry\u001b[0m\u001b[0;34m\u001b[0m\u001b[0;34m\u001b[0m\u001b[0;34m\u001b[0m\u001b[0m\n\u001b[1;32m    424\u001b[0m             \u001b[0;32mif\u001b[0m \u001b[0mhasattr\u001b[0m\u001b[0;34m(\u001b[0m\u001b[0mfeature\u001b[0m\u001b[0;34m,\u001b[0m \u001b[0;34m\"__geo_interface__\"\u001b[0m\u001b[0;34m)\u001b[0m\u001b[0;34m:\u001b[0m\u001b[0;34m\u001b[0m\u001b[0;34m\u001b[0m\u001b[0m\n",
      "\u001b[0;31mKeyboardInterrupt\u001b[0m: "
     ]
    }
   ],
   "source": [
    "label_df = gpd.read_file(Label_DATA_DIR)"
   ]
  },
  {
   "cell_type": "code",
   "execution_count": null,
   "id": "ee88702b",
   "metadata": {},
   "outputs": [],
   "source": [
    "label_df.columns"
   ]
  },
  {
   "cell_type": "code",
   "execution_count": null,
   "id": "400526cd",
   "metadata": {},
   "outputs": [],
   "source": [
    "all_bands = [os.path.join(IMG_DATA_DIR, b) for b in os.listdir(IMG_DATA_DIR) if b.endswith('tif')]"
   ]
  },
  {
   "cell_type": "code",
   "execution_count": null,
   "id": "9d3205ac",
   "metadata": {},
   "outputs": [],
   "source": [
    "def cropping_bands(ref_img_path, ups_img, outfile):\n",
    "    \n",
    "    \"\"\"\n",
    "    ref_img_path: input 10m resolution band\n",
    "    ups_img_path: input low resolution band (rasterio.open() output)\n",
    "    outfile: output low resolution band with geom alinged with ref_img\n",
    "    \"\"\"\n",
    "\n",
    "    ref_img = rasterio.open(ref_img_path)\n",
    "    # get the geometry of the reference high resolution band\n",
    "    geom = box(*ref_img.bounds)\n",
    "    \n",
    "#     ups_img = rasterio.open(ups_img_path)\n",
    "    cropped, crop_transf = mask(ups_img, [geom], crop=True, filled=False, all_touched=False)\n",
    "    \n",
    "    c, h, w = cropped.shape\n",
    "    \n",
    "    meta = ref_img.meta\n",
    "    meta['width'], meta['height'] = w, h\n",
    "    meta['transform'] = crop_transf\n",
    "\n",
    "    with rasterio.open(outfile, 'w', **meta) as dst:\n",
    "        dst.write(cropped)\n",
    "\n",
    "\n",
    "def upsample(img_lres_path, img_hres_path, img_size, outf, sample_method='bilinear'):\n",
    "    \n",
    "    \"\"\"\n",
    "    img_lres_path: low resolution cropped band path\n",
    "    img_hres_path: high resolution cropped band path\n",
    "    img_size: the size to resample\n",
    "    outf: output resampled Bands\n",
    "    \"\"\"\n",
    "    \n",
    "    dataset = rasterio.open(img_lres_path)\n",
    "\n",
    "    # resample data to target shape\n",
    "    data = dataset.read(\n",
    "        out_shape=(\n",
    "            dataset.count,\n",
    "            int(img_size),\n",
    "            int(img_size)\n",
    "        ),\n",
    "        resampling=Resampling.sample_method\n",
    "    )\n",
    "\n",
    "    dataset_hres = rasterio.open(img_hres_path)\n",
    "    \n",
    "    meta = dataset_hres.meta\n",
    "    \n",
    "    with rasterio.open(outf, 'w', **meta) as dst:\n",
    "        dst.write(data)"
   ]
  },
  {
   "cell_type": "code",
   "execution_count": 1,
   "id": "ef3a5752",
   "metadata": {},
   "outputs": [],
   "source": [
    "# Using center point of tmi to clip image\n",
    "\n",
    "image_clipping = False\n",
    "N = 256\n",
    "bands10m = ['B02', 'B03', 'B04', 'B08'] # RGB,NIR\n",
    "\n",
    "while image_clipping:\n",
    "    \n",
    "    image_clipping = False\n",
    "    \n",
    "    for band in tqdm(all_bands):\n",
    "        \n",
    "        if os.path.basename(band).split('_')[1] in bands10m:\n",
    "\n",
    "            img = rasterio.open(band)\n",
    "\n",
    "            output_filename = os.path.basename(band).split('.')[0] + '_tile_{}.tif'\n",
    "\n",
    "            for index, row in label_df.iterrows():\n",
    "\n",
    "                polyid = row['unique_id']\n",
    "\n",
    "                poly = row['geometry']\n",
    "                lon, lat = poly.centroid.x, poly.centroid.y\n",
    "                py, px = img.index(lon, lat)\n",
    "\n",
    "                # Build an NxN window\n",
    "                window = rasterio.windows.Window(px - N//2, py - N//2, N, N) # Window(col_off, row_off, width, height)\n",
    "\n",
    "                # Read the data in the window\n",
    "                # clip is a nbands * N * N numpy array\n",
    "                clip = img.read(window=window)\n",
    "\n",
    "                meta = img.meta\n",
    "                meta['width'], meta['height'] = N, N\n",
    "                meta['transform'] = rasterio.windows.transform(window, img.transform)\n",
    "\n",
    "                outfile = os.path.join(base_path, 'image_patches_256', output_filename.format(polyid))\n",
    "\n",
    "\n",
    "                with rasterio.open(outfile, 'w', **meta) as dst:\n",
    "                    dst.write(clip)\n"
   ]
  },
  {
   "cell_type": "code",
   "execution_count": 19,
   "id": "1e766ba0",
   "metadata": {},
   "outputs": [],
   "source": [
    "\n",
    "coarse_clipping_resample = False\n",
    "upsample_size = 256\n",
    "\n",
    "all_hres = [f for f in os.listdir(os.path.join(base_path, 'image_patches_256')) if 'B02' in f]\n",
    "\n",
    "\n",
    "while coarse_clipping_resample:\n",
    "    \n",
    "    coarse_clipping_resample = False\n",
    "    \n",
    "    for band in tqdm(all_bands):\n",
    "        \n",
    "        band_name = os.path.basename(band).split('_')[1]\n",
    "        \n",
    "        if band_name not in bands10m:\n",
    "            \n",
    "            raw_img = rasterio.open(os.path.join(IMG_DATA_DIR, band))\n",
    "            \n",
    "            for hres in all_hres:\n",
    "                hres_path = os.path.join(os.path.join(base_path, 'image_patches_256', hres))\n",
    "                crop_path = os.path.join(os.path.join(base_path, 'image_patches_256', hres.replace('B02', band_name)))\n",
    "                resample_path = os.path.join(os.path.join(base_path, 'image_patches_resample_256', hres.replace('B02', band_name)))\n",
    "                \n",
    "                cropping_bands(hres_path, raw_img, crop_path)\n",
    "                upsample(crop_path, hres_path, upsample_size, resample_path)"
   ]
  },
  {
   "cell_type": "code",
   "execution_count": null,
   "id": "5f6d014f",
   "metadata": {},
   "outputs": [],
   "source": [
    "all_img_id = [i[:-4].split('_')[-1] for i in os.listdir(os.path.join(base_path, 'image_patches_256')) if 'B03' in i]"
   ]
  },
  {
   "cell_type": "code",
   "execution_count": null,
   "id": "5c3828c7",
   "metadata": {},
   "outputs": [],
   "source": [
    "bands4_list = ['B02', 'B03', 'B04', 'B08']\n",
    "bands_other_list = ['B01', 'B05', 'B06', 'B07', 'B09', 'B10', 'B11', 'B12', 'B8A']\n",
    "\n",
    "band_dict = dict()\n",
    "\n",
    "for band in bands4_list:\n",
    "\n",
    "    if band not in band_dict:\n",
    "        band_dict[band] = list()\n",
    "        \n",
    "    for i in all_img_id:\n",
    "        \n",
    "        img_name = 'merge_{}_2017_tile_{}.tif'.format(band, i)\n",
    "        \n",
    "        if os.path.isfile(os.path.join(base_path, 'image_patches_256', img_name)):\n",
    "            band_dict[band].append(os.path.join(base_path, 'image_patches_256', img_name))\n",
    "        else:\n",
    "            raise ValueError('The file {} is not existed'.format(img_name))\n",
    "            \n",
    "for band in bands_other_list:\n",
    "\n",
    "    if band not in band_dict:\n",
    "        band_dict[band] = list()\n",
    "        \n",
    "    for i in all_img_id:\n",
    "        \n",
    "        img_name = 'merge_{}_2017_tile_{}.tif'.format(band, i)\n",
    "        \n",
    "        if os.path.isfile(os.path.join(base_path, 'image_patches_resample_256', img_name)):\n",
    "            band_dict[band].append(os.path.join(base_path, 'image_patches_resample_256', img_name))\n",
    "        else:\n",
    "            raise ValueError('The file {} is not existed'.format(img_name))"
   ]
  },
  {
   "cell_type": "code",
   "execution_count": null,
   "id": "c8f48d7b",
   "metadata": {},
   "outputs": [],
   "source": [
    "# create a multiband images\n",
    "\n",
    "def img_to_array(image):\n",
    "    \n",
    "    img = rasterio.open(image)\n",
    "    img_array = img.read()\n",
    "    \n",
    "    meta = img.meta\n",
    "\n",
    "    return img_array, meta\n",
    "    \n"
   ]
  },
  {
   "cell_type": "code",
   "execution_count": 23,
   "id": "24fd15a1",
   "metadata": {},
   "outputs": [],
   "source": [
    "# NLCD data\n",
    "nlcd_path = os.path.join(up(path_cur), 'data', 'NLCD_shoreline', 'clipped_nlcd.tif')\n",
    "nlcd_label_dir = os.path.join(up(path_cur), 'data', 'processing_data', 'nlcd_label_coarse')\n",
    "resample_nlcd_label_dir = os.path.join(up(path_cur), 'data', 'processing_data', 'nlcd_label_resampled')"
   ]
  },
  {
   "cell_type": "code",
   "execution_count": 26,
   "id": "95509bba",
   "metadata": {},
   "outputs": [],
   "source": [
    "nlcd_cropping = False\n",
    "\n",
    "while nlcd_cropping:\n",
    "    \n",
    "    nlcd_cropping = False\n",
    "    \n",
    "    nlcd_data = rasterio.open(nlcd_path)\n",
    "    \n",
    "    for hres in all_hres:\n",
    "        \n",
    "        nlcd_label_name = os.path.splitext(hres)[0].split('_')[-1] + '.tif'\n",
    "        nlcd_label_out = os.path.join(nlcd_label_dir, nlcd_label_name)\n",
    "        hres_path = os.path.join(os.path.join(base_path, 'image_patches_256', hres))\n",
    "        \n",
    "        cropping_bands(hres_path, nlcd_data, nlcd_label_out)\n",
    "#         upsample(cropped, hres_path, N, nlcd_label_out, sample_method='nearest')"
   ]
  },
  {
   "cell_type": "code",
   "execution_count": null,
   "id": "2233828e",
   "metadata": {},
   "outputs": [],
   "source": []
  },
  {
   "cell_type": "code",
   "execution_count": null,
   "id": "f0dcb0fd",
   "metadata": {},
   "outputs": [],
   "source": []
  },
  {
   "cell_type": "code",
   "execution_count": null,
   "id": "3711b144",
   "metadata": {},
   "outputs": [],
   "source": []
  },
  {
   "cell_type": "code",
   "execution_count": null,
   "id": "f5d5a459",
   "metadata": {},
   "outputs": [],
   "source": []
  },
  {
   "cell_type": "code",
   "execution_count": null,
   "id": "57f0ebd0",
   "metadata": {},
   "outputs": [],
   "source": []
  },
  {
   "cell_type": "code",
   "execution_count": null,
   "id": "14dce4b8",
   "metadata": {},
   "outputs": [],
   "source": []
  },
  {
   "cell_type": "code",
   "execution_count": null,
   "id": "2a1898e1",
   "metadata": {},
   "outputs": [],
   "source": []
  },
  {
   "cell_type": "code",
   "execution_count": null,
   "id": "df56023f",
   "metadata": {},
   "outputs": [],
   "source": []
  },
  {
   "cell_type": "code",
   "execution_count": null,
   "id": "7ebb90ff",
   "metadata": {},
   "outputs": [],
   "source": [
    "# sentinel_shoreline_2017_dir = '/rapids/notebooks/sciclone/geograd/Miranda/github/MarshMapping/raw_data/sentinel_shoreline/inventory/2017/uncompressed'\n",
    "\n",
    "# all_safe_2017 = [os.path.join('/rapids/notebooks', sentinel_shoreline_2017_dir, f) for f in os.listdir(sentinel_shoreline_2017_dir) if f.endswith('SAFE')]\n",
    "\n",
    "\n",
    "# # python s2_tiles_supres.py /rapids/notebooks/sciclone/geograd/Miranda/github/MarshMapping/raw_data/sentinel_shoreline/inventory/2017/uncompressed/S2A_MSIL1C_20170509T155911_N0205_R097_T18STH_20170509T160214.SAFE/MTD_MSIL1C.xml sciclone/geograd/Miranda/github/MarshMapping/data/sentinel_highres/S2A_MSIL1C_20170509T155911_N0205_R097_T18STH_20170509T160214.tif --run_60 --copy_original_bands\n",
    "# # python s2_tiles_supres.py /rapids/notebooks/sciclone/geograd/Miranda/github/MarshMapping/raw_data/sentinel_shoreline/inventory/2017/uncompressed/S2A_MSIL1C_20170509T155911_N0205_R097_T18STH_20170509T160214.SAFE/MTD_MSIL1C.xml sciclone/geograd/Miranda/github/MarshMapping/data/processing_data/test.tif"
   ]
  }
 ],
 "metadata": {
  "kernelspec": {
   "display_name": "vims",
   "language": "python",
   "name": "vims"
  },
  "language_info": {
   "codemirror_mode": {
    "name": "ipython",
    "version": 3
   },
   "file_extension": ".py",
   "mimetype": "text/x-python",
   "name": "python",
   "nbconvert_exporter": "python",
   "pygments_lexer": "ipython3",
   "version": "3.7.10"
  }
 },
 "nbformat": 4,
 "nbformat_minor": 5
}
