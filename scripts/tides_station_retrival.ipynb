{
 "cells": [
  {
   "cell_type": "code",
   "execution_count": 12,
   "id": "9bcbcc0d",
   "metadata": {},
   "outputs": [],
   "source": [
    "import requests\n",
    "import json"
   ]
  },
  {
   "cell_type": "code",
   "execution_count": 13,
   "id": "6c051e51",
   "metadata": {},
   "outputs": [],
   "source": [
    "\n"
   ]
  },
  {
   "cell_type": "code",
   "execution_count": 14,
   "id": "6a05b9c3",
   "metadata": {},
   "outputs": [],
   "source": [
    "response_API = requests.get(web)\n",
    "data = response_API.text"
   ]
  },
  {
   "cell_type": "code",
   "execution_count": 7,
   "id": "e2d28798",
   "metadata": {},
   "outputs": [],
   "source": [
    "# API set up\n",
    "datum='NAVD' # the DEM data is in NAVD datum\n",
    "station=8630111\n",
    "begin_date=20140101\n",
    "end_date=20160101\n",
    "units='metric'\n",
    "\n",
    "web = \"https://www.tidesandcurrents.noaa.gov/datums.html?id={}\".format(station)\n",
    "\n"
   ]
  },
  {
   "cell_type": "code",
   "execution_count": 8,
   "id": "ebea03a3",
   "metadata": {},
   "outputs": [],
   "source": [
    "https://api.tidesandcurrents.noaa.gov/api/prod/datagetter?&station=8630249&product=water_level&datum=navd&units=metric&time_zone=gmt&application=web_services&format=xml\n",
    "            \n",
    "            \n",
    "            \n",
    "            \n",
    "            "
   ]
  },
  {
   "cell_type": "code",
   "execution_count": 10,
   "id": "5f001a77",
   "metadata": {},
   "outputs": [],
   "source": []
  },
  {
   "cell_type": "code",
   "execution_count": null,
   "id": "2a58187a",
   "metadata": {},
   "outputs": [],
   "source": []
  }
 ],
 "metadata": {
  "kernelspec": {
   "display_name": "vims",
   "language": "python",
   "name": "vims"
  },
  "language_info": {
   "codemirror_mode": {
    "name": "ipython",
    "version": 3
   },
   "file_extension": ".py",
   "mimetype": "text/x-python",
   "name": "python",
   "nbconvert_exporter": "python",
   "pygments_lexer": "ipython3",
   "version": "3.7.10"
  }
 },
 "nbformat": 4,
 "nbformat_minor": 5
}
